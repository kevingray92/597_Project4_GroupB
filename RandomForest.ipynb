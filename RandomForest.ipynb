{
 "cells": [
  {
   "cell_type": "markdown",
   "metadata": {
    "colab_type": "text",
    "id": "VQoZ463m4e5g"
   },
   "source": [
    "## First, get the data into a useful format"
   ]
  },
  {
   "cell_type": "code",
   "execution_count": 1,
   "metadata": {
    "colab": {},
    "colab_type": "code",
    "id": "wdCgUHKC4e5k"
   },
   "outputs": [],
   "source": [
    "import numpy as np\n",
    "import pandas as pd\n",
    "from sklearn.metrics import mean_squared_error\n",
    "from math import sqrt\n",
    "import matplotlib.pyplot as plt\n",
    "import seaborn as sns; sns.set(font_scale = 1.5)"
   ]
  },
  {
   "cell_type": "code",
   "execution_count": 2,
   "metadata": {
    "colab": {
     "base_uri": "https://localhost:8080/",
     "height": 130
    },
    "colab_type": "code",
    "executionInfo": {
     "elapsed": 19503,
     "status": "ok",
     "timestamp": 1586067709834,
     "user": {
      "displayName": "Jeffrey Thayer",
      "photoUrl": "",
      "userId": "05379617383220225538"
     },
     "user_tz": 300
    },
    "id": "qzNNdUjb6U9S",
    "outputId": "2e825bc4-487e-4248-899d-782ccd96eb3f"
   },
   "outputs": [],
   "source": [
    "# from google.colab import drive\n",
    "# drive.mount('/content/drive')"
   ]
  },
  {
   "cell_type": "code",
   "execution_count": 3,
   "metadata": {
    "colab": {},
    "colab_type": "code",
    "id": "n_Yrw_JC4e5x"
   },
   "outputs": [],
   "source": [
    "# Read in datafiles\n",
    "# gfs = pd.read_csv('/content/drive/My Drive/Colab Notebooks/Project_4/GFSDaily/GFS_Daily_PredictVars_2010thru2019.csv', index_col = 'Date', usecols = ['Date', 'TMAX', 'TMIN', 'WMAX', 'RTOT'], parse_dates = True)\n",
    "gfs = pd.read_csv('./raw_data/GFS_Daily_PredictVars_2010thru2019.csv', index_col = 'Date', usecols = ['Date', 'TMAX', 'TMIN', 'WMAX', 'RTOT'], parse_dates = True)\n",
    "# gfsfs = pd.read_csv('./raw_data/GFS_Sfc_42hrFcst_2010thru2019.csv', skiprows=1, index_col = 'Date', parse_dates = True)\n",
    "# hourly = pd.read_csv('/content/drive/My Drive/Colab Notebooks/Project_4/KCMI_hourly_tidy.csv', index_col = 'Timestamp', parse_dates = True)\n",
    "hourly = pd.read_csv('./raw_data/KCMI_hourly_tidy.csv', index_col = 'Timestamp', parse_dates = True)\n",
    "hourly.index = hourly.index + pd.DateOffset(hours=12)  # Align times\n",
    "\n",
    "# obs = pd.read_csv('/content/drive/My Drive/Colab Notebooks/Project_4/KCMI_daily_tidy.csv', index_col = 'Date', parse_dates = True)\n",
    "obs = pd.read_csv('./raw_data/KCMI_daily_tidy.csv', index_col = 'Date', parse_dates = True)\n",
    "obs.index = obs.index + pd.DateOffset(hours=12)  # Align times\n",
    "\n",
    "# sfc = pd.read_csv('/content/drive/My Drive/Colab Notebooks/Project_4/GFSSfc/GFS_Sfc_06Zto06ZAvgMinMax_AdditionalVars_2010thru2019.csv',  index_col = 'Unnamed: 0', parse_dates = True)\n",
    "sfc = pd.read_csv('./raw_data/GFS_Sfc_06Zto06ZAvgMinMax_AdditionalVars_2010thru2019.csv',  index_col = 'Unnamed: 0', parse_dates = True)\n",
    "sfc.index = sfc.index + pd.DateOffset(days=1)  # Align times\n",
    "# prof = pd.read_csv('/content/drive/My Drive/Colab Notebooks/Project_4/GFSProfile/GFS_Prof_06Zto06ZAvgMinMax_2010thru2019.csv',  index_col = 'Unnamed: 0', parse_dates = True)\n",
    "prof = pd.read_csv('./raw_data/GFS_Prof_06Zto06ZAvgMinMax_2010thru2019.csv',  index_col = 'Unnamed: 0', parse_dates = True)\n",
    "prof.index = prof.index + pd.DateOffset(days=1)  # Align times"
   ]
  },
  {
   "cell_type": "code",
   "execution_count": 4,
   "metadata": {
    "colab": {
     "base_uri": "https://localhost:8080/",
     "height": 110
    },
    "colab_type": "code",
    "executionInfo": {
     "elapsed": 348,
     "status": "ok",
     "timestamp": 1586067726122,
     "user": {
      "displayName": "Jeffrey Thayer",
      "photoUrl": "",
      "userId": "05379617383220225538"
     },
     "user_tz": 300
    },
    "id": "zlIJHZHM4e59",
    "outputId": "85118db7-940e-4db0-87d2-da63aff65267"
   },
   "outputs": [
    {
     "name": "stdout",
     "output_type": "stream",
     "text": [
      "(3614, 4)\n",
      "(3652, 7)\n",
      "(3652, 4)\n",
      "(3652, 15)\n",
      "(3652, 60)\n"
     ]
    }
   ],
   "source": [
    "# There is some missing data from the GFS forecasts!\n",
    "print(gfs.shape)\n",
    "print(hourly.shape)\n",
    "print(obs.shape)\n",
    "print(sfc.shape)\n",
    "print(prof.shape)"
   ]
  },
  {
   "cell_type": "code",
   "execution_count": 5,
   "metadata": {
    "colab": {},
    "colab_type": "code",
    "id": "NPjyWFrC4e6H"
   },
   "outputs": [],
   "source": [
    "# Merge and drop all days with missing values \n",
    "features = pd.merge(obs.reset_index().dropna(), gfs.reset_index(), on = 'Date', how = 'inner')\n",
    "features = pd.merge(features, hourly.reset_index(), left_on = 'Date', right_on = 'Timestamp', how = 'inner').drop(columns = 'Timestamp')\n",
    "features = pd.merge(features, prof.reset_index(), left_on = 'Date', right_on = 'index', how = 'inner').drop(columns = 'index')\n",
    "features = pd.merge(features, sfc.reset_index(), left_on = 'Date', right_on = 'index', how = 'inner').drop(columns = 'index')\n",
    "features.dropna(inplace = True)  # There are some NaNs in the observations"
   ]
  },
  {
   "cell_type": "code",
   "execution_count": 6,
   "metadata": {
    "colab": {
     "base_uri": "https://localhost:8080/",
     "height": 384
    },
    "colab_type": "code",
    "executionInfo": {
     "elapsed": 706,
     "status": "ok",
     "timestamp": 1586067736676,
     "user": {
      "displayName": "Jeffrey Thayer",
      "photoUrl": "",
      "userId": "05379617383220225538"
     },
     "user_tz": 300
    },
    "id": "und268m24e6O",
    "outputId": "f185278c-8853-4f1a-fdcc-462d1a00603f"
   },
   "outputs": [
    {
     "data": {
      "text/html": [
       "<div>\n",
       "<style scoped>\n",
       "    .dataframe tbody tr th:only-of-type {\n",
       "        vertical-align: middle;\n",
       "    }\n",
       "\n",
       "    .dataframe tbody tr th {\n",
       "        vertical-align: top;\n",
       "    }\n",
       "\n",
       "    .dataframe thead th {\n",
       "        text-align: right;\n",
       "    }\n",
       "</style>\n",
       "<table border=\"1\" class=\"dataframe\">\n",
       "  <thead>\n",
       "    <tr style=\"text-align: right;\">\n",
       "      <th></th>\n",
       "      <th>Max Hourly Temp (C)</th>\n",
       "      <th>Min Hourly Temp (C)</th>\n",
       "      <th>Max Wind Speed (m/s)</th>\n",
       "      <th>Daily Precip (mm)</th>\n",
       "      <th>TMAX</th>\n",
       "      <th>TMIN</th>\n",
       "      <th>WMAX</th>\n",
       "      <th>RTOT</th>\n",
       "      <th>tmpc</th>\n",
       "      <th>dwpc</th>\n",
       "      <th>...</th>\n",
       "      <th>Max LCLD(%)</th>\n",
       "      <th>Avg MCLD(%)</th>\n",
       "      <th>Min MCLD(%)</th>\n",
       "      <th>Max MCLD(%)</th>\n",
       "      <th>Avg HCLD(%)</th>\n",
       "      <th>Min HCLD(%)</th>\n",
       "      <th>Max HCLD(%)</th>\n",
       "      <th>Avg PRES(hPa)</th>\n",
       "      <th>Min PRES(hPa)</th>\n",
       "      <th>Max PRES(hPa)</th>\n",
       "    </tr>\n",
       "  </thead>\n",
       "  <tbody>\n",
       "    <tr>\n",
       "      <th>count</th>\n",
       "      <td>3231.000000</td>\n",
       "      <td>3231.000000</td>\n",
       "      <td>3231.000000</td>\n",
       "      <td>3231.000000</td>\n",
       "      <td>3231.000000</td>\n",
       "      <td>3231.000000</td>\n",
       "      <td>3231.000000</td>\n",
       "      <td>3231.000000</td>\n",
       "      <td>3231.000000</td>\n",
       "      <td>3231.000000</td>\n",
       "      <td>...</td>\n",
       "      <td>3231.000000</td>\n",
       "      <td>3231.000000</td>\n",
       "      <td>3231.000000</td>\n",
       "      <td>3231.000000</td>\n",
       "      <td>3231.000000</td>\n",
       "      <td>3231.000000</td>\n",
       "      <td>3231.000000</td>\n",
       "      <td>3231.000000</td>\n",
       "      <td>3231.000000</td>\n",
       "      <td>3231.000000</td>\n",
       "    </tr>\n",
       "    <tr>\n",
       "      <th>mean</th>\n",
       "      <td>17.588466</td>\n",
       "      <td>6.551807</td>\n",
       "      <td>7.599818</td>\n",
       "      <td>2.039245</td>\n",
       "      <td>16.145107</td>\n",
       "      <td>7.199022</td>\n",
       "      <td>5.772318</td>\n",
       "      <td>3.315404</td>\n",
       "      <td>13.900928</td>\n",
       "      <td>6.845879</td>\n",
       "      <td>...</td>\n",
       "      <td>46.387806</td>\n",
       "      <td>17.345102</td>\n",
       "      <td>1.130919</td>\n",
       "      <td>47.113278</td>\n",
       "      <td>36.469267</td>\n",
       "      <td>9.016094</td>\n",
       "      <td>69.911483</td>\n",
       "      <td>989.381213</td>\n",
       "      <td>986.438904</td>\n",
       "      <td>992.188765</td>\n",
       "    </tr>\n",
       "    <tr>\n",
       "      <th>std</th>\n",
       "      <td>11.899096</td>\n",
       "      <td>10.782862</td>\n",
       "      <td>2.932123</td>\n",
       "      <td>5.950638</td>\n",
       "      <td>11.201407</td>\n",
       "      <td>9.998378</td>\n",
       "      <td>2.349089</td>\n",
       "      <td>7.027440</td>\n",
       "      <td>11.958992</td>\n",
       "      <td>10.984311</td>\n",
       "      <td>...</td>\n",
       "      <td>42.981042</td>\n",
       "      <td>21.571487</td>\n",
       "      <td>7.485913</td>\n",
       "      <td>42.569690</td>\n",
       "      <td>30.263713</td>\n",
       "      <td>21.730328</td>\n",
       "      <td>37.603787</td>\n",
       "      <td>6.113929</td>\n",
       "      <td>6.585035</td>\n",
       "      <td>6.059707</td>\n",
       "    </tr>\n",
       "    <tr>\n",
       "      <th>min</th>\n",
       "      <td>-21.111111</td>\n",
       "      <td>-26.666667</td>\n",
       "      <td>2.235200</td>\n",
       "      <td>0.000000</td>\n",
       "      <td>-18.760000</td>\n",
       "      <td>-25.060000</td>\n",
       "      <td>1.431782</td>\n",
       "      <td>0.000000</td>\n",
       "      <td>-23.366667</td>\n",
       "      <td>-28.575000</td>\n",
       "      <td>...</td>\n",
       "      <td>0.000000</td>\n",
       "      <td>0.000000</td>\n",
       "      <td>0.000000</td>\n",
       "      <td>0.000000</td>\n",
       "      <td>0.000000</td>\n",
       "      <td>0.000000</td>\n",
       "      <td>0.000000</td>\n",
       "      <td>962.566667</td>\n",
       "      <td>954.800000</td>\n",
       "      <td>970.300000</td>\n",
       "    </tr>\n",
       "    <tr>\n",
       "      <th>25%</th>\n",
       "      <td>8.333333</td>\n",
       "      <td>-1.111111</td>\n",
       "      <td>5.811520</td>\n",
       "      <td>0.000000</td>\n",
       "      <td>7.140000</td>\n",
       "      <td>-0.560000</td>\n",
       "      <td>4.001250</td>\n",
       "      <td>0.000000</td>\n",
       "      <td>4.395833</td>\n",
       "      <td>-1.416667</td>\n",
       "      <td>...</td>\n",
       "      <td>0.000000</td>\n",
       "      <td>0.000000</td>\n",
       "      <td>0.000000</td>\n",
       "      <td>0.000000</td>\n",
       "      <td>7.888889</td>\n",
       "      <td>0.000000</td>\n",
       "      <td>41.000000</td>\n",
       "      <td>985.661111</td>\n",
       "      <td>982.800000</td>\n",
       "      <td>988.200000</td>\n",
       "    </tr>\n",
       "    <tr>\n",
       "      <th>50%</th>\n",
       "      <td>20.000000</td>\n",
       "      <td>7.777778</td>\n",
       "      <td>7.152640</td>\n",
       "      <td>0.000000</td>\n",
       "      <td>18.140000</td>\n",
       "      <td>8.440000</td>\n",
       "      <td>5.393515</td>\n",
       "      <td>0.310000</td>\n",
       "      <td>16.008333</td>\n",
       "      <td>7.400000</td>\n",
       "      <td>...</td>\n",
       "      <td>38.000000</td>\n",
       "      <td>7.666667</td>\n",
       "      <td>0.000000</td>\n",
       "      <td>46.000000</td>\n",
       "      <td>32.666667</td>\n",
       "      <td>0.000000</td>\n",
       "      <td>92.000000</td>\n",
       "      <td>989.166667</td>\n",
       "      <td>986.800000</td>\n",
       "      <td>991.600000</td>\n",
       "    </tr>\n",
       "    <tr>\n",
       "      <th>75%</th>\n",
       "      <td>27.777778</td>\n",
       "      <td>16.111111</td>\n",
       "      <td>9.387840</td>\n",
       "      <td>0.350000</td>\n",
       "      <td>25.940000</td>\n",
       "      <td>15.540000</td>\n",
       "      <td>7.170077</td>\n",
       "      <td>3.320000</td>\n",
       "      <td>24.445833</td>\n",
       "      <td>16.387500</td>\n",
       "      <td>...</td>\n",
       "      <td>96.000000</td>\n",
       "      <td>28.722222</td>\n",
       "      <td>0.000000</td>\n",
       "      <td>96.000000</td>\n",
       "      <td>60.000000</td>\n",
       "      <td>1.000000</td>\n",
       "      <td>100.000000</td>\n",
       "      <td>992.966667</td>\n",
       "      <td>990.450000</td>\n",
       "      <td>995.800000</td>\n",
       "    </tr>\n",
       "    <tr>\n",
       "      <th>max</th>\n",
       "      <td>37.777778</td>\n",
       "      <td>25.555556</td>\n",
       "      <td>23.246080</td>\n",
       "      <td>85.900000</td>\n",
       "      <td>37.140000</td>\n",
       "      <td>25.040000</td>\n",
       "      <td>16.413714</td>\n",
       "      <td>81.010000</td>\n",
       "      <td>34.716667</td>\n",
       "      <td>26.391667</td>\n",
       "      <td>...</td>\n",
       "      <td>101.000000</td>\n",
       "      <td>100.000000</td>\n",
       "      <td>100.000000</td>\n",
       "      <td>101.000000</td>\n",
       "      <td>100.000000</td>\n",
       "      <td>100.000000</td>\n",
       "      <td>101.000000</td>\n",
       "      <td>1012.800000</td>\n",
       "      <td>1010.400000</td>\n",
       "      <td>1016.400000</td>\n",
       "    </tr>\n",
       "  </tbody>\n",
       "</table>\n",
       "<p>8 rows × 90 columns</p>\n",
       "</div>"
      ],
      "text/plain": [
       "       Max Hourly Temp (C)  Min Hourly Temp (C)  Max Wind Speed (m/s)  \\\n",
       "count          3231.000000          3231.000000           3231.000000   \n",
       "mean             17.588466             6.551807              7.599818   \n",
       "std              11.899096            10.782862              2.932123   \n",
       "min             -21.111111           -26.666667              2.235200   \n",
       "25%               8.333333            -1.111111              5.811520   \n",
       "50%              20.000000             7.777778              7.152640   \n",
       "75%              27.777778            16.111111              9.387840   \n",
       "max              37.777778            25.555556             23.246080   \n",
       "\n",
       "       Daily Precip (mm)         TMAX         TMIN         WMAX         RTOT  \\\n",
       "count        3231.000000  3231.000000  3231.000000  3231.000000  3231.000000   \n",
       "mean            2.039245    16.145107     7.199022     5.772318     3.315404   \n",
       "std             5.950638    11.201407     9.998378     2.349089     7.027440   \n",
       "min             0.000000   -18.760000   -25.060000     1.431782     0.000000   \n",
       "25%             0.000000     7.140000    -0.560000     4.001250     0.000000   \n",
       "50%             0.000000    18.140000     8.440000     5.393515     0.310000   \n",
       "75%             0.350000    25.940000    15.540000     7.170077     3.320000   \n",
       "max            85.900000    37.140000    25.040000    16.413714    81.010000   \n",
       "\n",
       "              tmpc         dwpc  ...  Max LCLD(%)  Avg MCLD(%)  Min MCLD(%)  \\\n",
       "count  3231.000000  3231.000000  ...  3231.000000  3231.000000  3231.000000   \n",
       "mean     13.900928     6.845879  ...    46.387806    17.345102     1.130919   \n",
       "std      11.958992    10.984311  ...    42.981042    21.571487     7.485913   \n",
       "min     -23.366667   -28.575000  ...     0.000000     0.000000     0.000000   \n",
       "25%       4.395833    -1.416667  ...     0.000000     0.000000     0.000000   \n",
       "50%      16.008333     7.400000  ...    38.000000     7.666667     0.000000   \n",
       "75%      24.445833    16.387500  ...    96.000000    28.722222     0.000000   \n",
       "max      34.716667    26.391667  ...   101.000000   100.000000   100.000000   \n",
       "\n",
       "       Max MCLD(%)  Avg HCLD(%)  Min HCLD(%)  Max HCLD(%)  Avg PRES(hPa)  \\\n",
       "count  3231.000000  3231.000000  3231.000000  3231.000000    3231.000000   \n",
       "mean     47.113278    36.469267     9.016094    69.911483     989.381213   \n",
       "std      42.569690    30.263713    21.730328    37.603787       6.113929   \n",
       "min       0.000000     0.000000     0.000000     0.000000     962.566667   \n",
       "25%       0.000000     7.888889     0.000000    41.000000     985.661111   \n",
       "50%      46.000000    32.666667     0.000000    92.000000     989.166667   \n",
       "75%      96.000000    60.000000     1.000000   100.000000     992.966667   \n",
       "max     101.000000   100.000000   100.000000   101.000000    1012.800000   \n",
       "\n",
       "       Min PRES(hPa)  Max PRES(hPa)  \n",
       "count    3231.000000    3231.000000  \n",
       "mean      986.438904     992.188765  \n",
       "std         6.585035       6.059707  \n",
       "min       954.800000     970.300000  \n",
       "25%       982.800000     988.200000  \n",
       "50%       986.800000     991.600000  \n",
       "75%       990.450000     995.800000  \n",
       "max      1010.400000    1016.400000  \n",
       "\n",
       "[8 rows x 90 columns]"
      ]
     },
     "execution_count": 6,
     "metadata": {},
     "output_type": "execute_result"
    }
   ],
   "source": [
    "features.describe()"
   ]
  },
  {
   "cell_type": "code",
   "execution_count": 7,
   "metadata": {
    "colab": {},
    "colab_type": "code",
    "id": "xGIaSSFU4e6X"
   },
   "outputs": [],
   "source": [
    "# Add year, month, day as integers \n",
    "features['year'] = features['Date'].dt.year\n",
    "features['month'] = features['Date'].dt.month\n",
    "features['day'] = features['Date'].dt.day"
   ]
  },
  {
   "cell_type": "code",
   "execution_count": 8,
   "metadata": {
    "colab": {},
    "colab_type": "code",
    "id": "id9vv2Oe4e6h"
   },
   "outputs": [],
   "source": [
    "# The data we will be using to predict the labels\n",
    "new_features = features.drop(columns = ['Max Hourly Temp (C)', 'Min Hourly Temp (C)', 'Max Wind Speed (m/s)', 'Daily Precip (mm)'], axis = 1)\n",
    "\n",
    "# Save feature list for later\n",
    "feature_list = list(new_features.columns)"
   ]
  },
  {
   "cell_type": "code",
   "execution_count": 9,
   "metadata": {
    "colab": {},
    "colab_type": "code",
    "id": "bFy2dDxw4e6o"
   },
   "outputs": [],
   "source": [
    "#feature_list"
   ]
  },
  {
   "cell_type": "markdown",
   "metadata": {
    "colab_type": "text",
    "id": "-oFYNJe74e6w"
   },
   "source": [
    "## Now run the model!"
   ]
  },
  {
   "cell_type": "markdown",
   "metadata": {
    "colab_type": "text",
    "id": "3EhFgSCQ4e6y"
   },
   "source": [
    "### Maximum Temperature"
   ]
  },
  {
   "cell_type": "code",
   "execution_count": 10,
   "metadata": {
    "colab": {},
    "colab_type": "code",
    "id": "1tY0H-_t4e6z"
   },
   "outputs": [],
   "source": [
    "# Split the data into training and testing sets\n",
    "train_features_tmax = np.array(new_features.query('year < 2019').drop(columns = ['Date']))\n",
    "test_features_tmax  = np.array(new_features.query('year == 2019').drop(columns = ['Date']))\n",
    "train_labels_tmax  = np.array(features.query('year < 2019')['Max Hourly Temp (C)'])\n",
    "test_labels_tmax  = np.array(features.query('year == 2019')['Max Hourly Temp (C)'])\n",
    "test_dates = np.array(new_features.query('year == 2019')['Date']) # Dates"
   ]
  },
  {
   "cell_type": "code",
   "execution_count": 11,
   "metadata": {
    "colab": {},
    "colab_type": "code",
    "id": "aBDyyfDO4e65"
   },
   "outputs": [
    {
     "data": {
      "text/plain": [
       "Date             0\n",
       "TMAX             0\n",
       "TMIN             0\n",
       "WMAX             0\n",
       "RTOT             0\n",
       "                ..\n",
       "Min PRES(hPa)    0\n",
       "Max PRES(hPa)    0\n",
       "year             0\n",
       "month            0\n",
       "day              0\n",
       "Length: 90, dtype: int64"
      ]
     },
     "execution_count": 11,
     "metadata": {},
     "output_type": "execute_result"
    }
   ],
   "source": [
    "# Check if any NaNs exist\n",
    "new_features.query('year < 2019').isna().sum()"
   ]
  },
  {
   "cell_type": "code",
   "execution_count": 12,
   "metadata": {
    "colab": {
     "base_uri": "https://localhost:8080/",
     "height": 36
    },
    "colab_type": "code",
    "executionInfo": {
     "elapsed": 338,
     "status": "ok",
     "timestamp": 1586067795732,
     "user": {
      "displayName": "Jeffrey Thayer",
      "photoUrl": "",
      "userId": "05379617383220225538"
     },
     "user_tz": 300
    },
    "id": "ITf7tE-M4e7A",
    "outputId": "d03f3603-c9a6-48fe-c606-e1acbf007e11"
   },
   "outputs": [
    {
     "data": {
      "text/plain": [
       "0"
      ]
     },
     "execution_count": 12,
     "metadata": {},
     "output_type": "execute_result"
    }
   ],
   "source": [
    "# Check if any NaNs exist\n",
    "features.query('year == 2019')['Max Hourly Temp (C)'].isna().sum()"
   ]
  },
  {
   "cell_type": "code",
   "execution_count": 13,
   "metadata": {
    "colab": {
     "base_uri": "https://localhost:8080/",
     "height": 36
    },
    "colab_type": "code",
    "executionInfo": {
     "elapsed": 411,
     "status": "ok",
     "timestamp": 1586067796796,
     "user": {
      "displayName": "Jeffrey Thayer",
      "photoUrl": "",
      "userId": "05379617383220225538"
     },
     "user_tz": 300
    },
    "id": "y_qjAqSS4e7G",
    "outputId": "1e481674-fb90-46ce-bc61-4629684544d4"
   },
   "outputs": [
    {
     "name": "stdout",
     "output_type": "stream",
     "text": [
      "Root Mean Square Error: 4.51 degrees C.\n"
     ]
    }
   ],
   "source": [
    "# Let's check how well the GFS forecast does. This will be our 'base prediction'\n",
    "print('Root Mean Square Error:', round(sqrt(mean_squared_error(test_labels_tmax , new_features.query('year == 2019')['TMAX'].values)), 2), 'degrees C.')"
   ]
  },
  {
   "cell_type": "code",
   "execution_count": 14,
   "metadata": {
    "colab": {
     "base_uri": "https://localhost:8080/",
     "height": 92
    },
    "colab_type": "code",
    "executionInfo": {
     "elapsed": 338,
     "status": "ok",
     "timestamp": 1586067803814,
     "user": {
      "displayName": "Jeffrey Thayer",
      "photoUrl": "",
      "userId": "05379617383220225538"
     },
     "user_tz": 300
    },
    "id": "FVLqgVXO4e7Q",
    "outputId": "94da8379-1145-48d2-ebce-fb75900f49ba"
   },
   "outputs": [
    {
     "name": "stdout",
     "output_type": "stream",
     "text": [
      "Training Features Shape: (2924, 89)\n",
      "Training Labels Shape: (2924,)\n",
      "Testing Features Shape: (307, 89)\n",
      "Testing Labels Shape: (307,)\n"
     ]
    }
   ],
   "source": [
    "print('Training Features Shape:', train_features_tmax .shape)\n",
    "print('Training Labels Shape:', train_labels_tmax .shape)\n",
    "print('Testing Features Shape:', test_features_tmax .shape)\n",
    "print('Testing Labels Shape:', test_labels_tmax .shape)"
   ]
  },
  {
   "cell_type": "code",
   "execution_count": 15,
   "metadata": {
    "colab": {},
    "colab_type": "code",
    "id": "yM9HgTwg-AAb"
   },
   "outputs": [],
   "source": [
    "# from sklearn.model_selection import RandomizedSearchCV# Number of trees in random forest\n",
    "\n",
    "# n_estimators = [int(x) for x in np.linspace(start = 200, stop = 2000, num = 10)]\n",
    "\n",
    "# # Number of features to consider at every split\n",
    "# max_features = ['auto', 'sqrt']\n",
    "\n",
    "# # Maximum number of levels in tree\n",
    "# max_depth = [int(x) for x in np.linspace(10, 110, num = 11)]\n",
    "# max_depth.append(None)\n",
    "\n",
    "# # Minimum number of samples required to split a node\n",
    "# min_samples_split = [2, 5, 10]\n",
    "\n",
    "# # Minimum number of samples required at each leaf node\n",
    "# min_samples_leaf = [1, 2, 4]\n",
    "\n",
    "# # Method of selecting samples for training each tree\n",
    "# bootstrap = [True, False]# Create the random grid\n",
    "\n",
    "# random_grid = {'n_estimators': n_estimators,\n",
    "#                'max_depth': max_depth,\n",
    "#                'max_features': ['auto', 'sqrt'],\n",
    "#                'min_samples_split': min_samples_split,\n",
    "#                'min_samples_leaf': min_samples_leaf,\n",
    "#                'bootstrap': bootstrap}\n",
    "\n",
    "# from pprint import pprint\n",
    "# pprint(random_grid)"
   ]
  },
  {
   "cell_type": "code",
   "execution_count": 16,
   "metadata": {
    "colab": {},
    "colab_type": "code",
    "id": "VBsjHvkK4e7V"
   },
   "outputs": [],
   "source": [
    "# Import the model we are using\n",
    "from sklearn.ensemble import RandomForestRegressor\n",
    "\n",
    "# Instantiate model\n",
    "rfmax = RandomForestRegressor(n_estimators = 1600, random_state = 42, max_depth = 80, max_features = 'sqrt', min_samples_leaf = 1, min_samples_split = 3, bootstrap = True)\n",
    "\n",
    "# Choose the columns we want to use in the regression!!!\n",
    "column_names_tmax  = ['TMAX','TMIN','tmpc','dwpc','WMAX','day','Avg DWPDEP(C)','Max DWPDEP(C)','Avg LCLD(%)','Avg HCLD(%)','Avg PRES(hPa)','Avg 850hPa DWPDEP(C)','Max 850hPa TMPC',\n",
    "                      'Min 925hPa TMPC','Max 925hPa TMPC','Min 250hPa WSPD(m/s)','Min 850hPa WSPD(m/s)']\n",
    "\n",
    "train_vars_tmax = new_features.query('year < 2019')[column_names_tmax] # Get the columns for training\n",
    "test_vars_tmax = new_features.query('year == 2019')[column_names_tmax] # Get the columns for testing\n",
    "\n",
    "# Use the random grid to search for best hyperparameters\n",
    "# First create the base model to tune\n",
    "#rf = RandomForestRegressor()\n",
    "\n",
    "# Random search of parameters, using 3 fold cross validation, search across 100 different combinations, and use all available cores\n",
    "#rf_random = RandomizedSearchCV(estimator = rf, param_distributions = random_grid, n_iter = 100, cv = 3, verbose=2, random_state=42, n_jobs = -1)\n",
    "\n",
    "# Train the model on training data\n",
    "rfmax.fit(train_vars_tmax, train_labels_tmax);\n",
    "\n",
    "#rf_random.best_params_\n",
    "#n_estimators = 1600, random_state = 42, max_depth = 80, max_features = 'sqrt', min_samples_leaf = 4, min_samples_split = 2, bootstrap = True"
   ]
  },
  {
   "cell_type": "code",
   "execution_count": 17,
   "metadata": {
    "colab": {
     "base_uri": "https://localhost:8080/",
     "height": 36
    },
    "colab_type": "code",
    "executionInfo": {
     "elapsed": 531,
     "status": "ok",
     "timestamp": 1586069259612,
     "user": {
      "displayName": "Jeffrey Thayer",
      "photoUrl": "",
      "userId": "05379617383220225538"
     },
     "user_tz": 300
    },
    "id": "ojJlKgtn4e7a",
    "outputId": "97173e3d-52eb-4829-d14b-58b05314d1c4"
   },
   "outputs": [
    {
     "name": "stdout",
     "output_type": "stream",
     "text": [
      "Root Mean Square Error: 1.92 degrees C.\n"
     ]
    }
   ],
   "source": [
    "# Use the forest's predict method on the test data\n",
    "#best_random = rf_random.best_estimator_\n",
    "predictions_tmax = rfmax.predict(test_vars_tmax)\n",
    "\n",
    "# Print out the root mean square error (rmse)\n",
    "print('Root Mean Square Error:', round(sqrt(mean_squared_error(test_labels_tmax, predictions_tmax)), 2), 'degrees C.')"
   ]
  },
  {
   "cell_type": "code",
   "execution_count": 21,
   "metadata": {
    "colab": {
     "base_uri": "https://localhost:8080/",
     "height": 335
    },
    "colab_type": "code",
    "executionInfo": {
     "elapsed": 498,
     "status": "ok",
     "timestamp": 1586067873668,
     "user": {
      "displayName": "Jeffrey Thayer",
      "photoUrl": "",
      "userId": "05379617383220225538"
     },
     "user_tz": 300
    },
    "id": "NcQfPRZu4e7g",
    "outputId": "dff325ad-af96-4d07-c8fe-547aa5361b73"
   },
   "outputs": [
    {
     "name": "stdout",
     "output_type": "stream",
     "text": [
      "Variable: Max 925hPa TMPC      Importance: 0.25\n",
      "Variable: Min 925hPa TMPC      Importance: 0.21\n",
      "Variable: TMIN                 Importance: 0.15\n",
      "Variable: TMAX                 Importance: 0.11\n",
      "Variable: tmpc                 Importance: 0.09\n",
      "Variable: Max 850hPa TMPC      Importance: 0.09\n",
      "Variable: dwpc                 Importance: 0.04\n",
      "Variable: Max DWPDEP(C)        Importance: 0.01\n",
      "Variable: Avg LCLD(%)          Importance: 0.01\n",
      "Variable: Avg PRES(hPa)        Importance: 0.01\n",
      "Variable: Min 250hPa WSPD(m/s) Importance: 0.01\n",
      "Variable: WMAX                 Importance: 0.0\n",
      "Variable: day                  Importance: 0.0\n",
      "Variable: Avg DWPDEP(C)        Importance: 0.0\n",
      "Variable: Avg HCLD(%)          Importance: 0.0\n",
      "Variable: Avg 850hPa DWPDEP(C) Importance: 0.0\n",
      "Variable: Min 850hPa WSPD(m/s) Importance: 0.0\n"
     ]
    }
   ],
   "source": [
    "# Get numerical feature importances\n",
    "importances = list(rfmax.feature_importances_)\n",
    "\n",
    "# List of tuples with variable and importance\n",
    "feature_importances = [(feature, round(importance, 2)) for feature, importance in zip(column_names_tmax, importances)]\n",
    "\n",
    "# Sort the feature importances by most important first\n",
    "feature_importances = sorted(feature_importances, key = lambda x: x[1], reverse = True)\n",
    "\n",
    "# Print out the feature and importances \n",
    "[print('Variable: {:20} Importance: {}'.format(*pair)) for pair in feature_importances];"
   ]
  },
  {
   "cell_type": "code",
   "execution_count": 22,
   "metadata": {},
   "outputs": [
    {
     "data": {
      "image/png": "[encoded data removed]",
      "text/plain": [
       "<Figure size 576x360 with 1 Axes>"
      ]
     },
     "metadata": {},
     "output_type": "display_data"
    }
   ],
   "source": [
    "# Do the plot\n",
    "fig, ax = plt.subplots(figsize = (8,5))\n",
    "ax.plot(test_dates, test_labels_tmax, 'ro', label = 'Observed')\n",
    "ax.plot(test_dates, predictions_tmax, 'b-', label = 'Predicted')\n",
    "# ax.plot(predictions, 'b-')\n",
    "# ax.plot(test_labels, 'ro')\n",
    "ax.set_xlabel('Date')\n",
    "ax.set_ylabel('Temperature ($^\\degree C$)')\n",
    "plt.legend()\n",
    "plt.tight_layout()\n",
    "plt.savefig('./tmax_rf.png', dpi = 500)"
   ]
  },
  {
   "cell_type": "markdown",
   "metadata": {
    "colab_type": "text",
    "id": "F4-lPlWL4e7k"
   },
   "source": [
    "### Minimum Temperature"
   ]
  },
  {
   "cell_type": "code",
   "execution_count": 23,
   "metadata": {
    "colab": {},
    "colab_type": "code",
    "id": "IZdfD9yU4e7k"
   },
   "outputs": [],
   "source": [
    "# New labels, features remain the same\n",
    "train_labels_tmin = np.array(features.query('year < 2019')['Min Hourly Temp (C)'])\n",
    "test_labels_tmin = np.array(features.query('year == 2019')['Min Hourly Temp (C)'])"
   ]
  },
  {
   "cell_type": "code",
   "execution_count": 24,
   "metadata": {
    "colab": {
     "base_uri": "https://localhost:8080/",
     "height": 36
    },
    "colab_type": "code",
    "executionInfo": {
     "elapsed": 368,
     "status": "ok",
     "timestamp": 1586069292731,
     "user": {
      "displayName": "Jeffrey Thayer",
      "photoUrl": "",
      "userId": "05379617383220225538"
     },
     "user_tz": 300
    },
    "id": "jQd2mSt64e7o",
    "outputId": "53846f36-a0e3-4bb3-c411-1da3e59c6a04"
   },
   "outputs": [
    {
     "name": "stdout",
     "output_type": "stream",
     "text": [
      "Root Mean Square Error: 4.26 degrees C.\n"
     ]
    }
   ],
   "source": [
    "# Let's check how well the GFS forecast does. This will be our 'base prediction'\n",
    "print('Root Mean Square Error:', round(sqrt(mean_squared_error(test_labels_tmin, new_features.query('year == 2019')['TMIN'].values)), 2), 'degrees C.')"
   ]
  },
  {
   "cell_type": "code",
   "execution_count": 25,
   "metadata": {
    "colab": {},
    "colab_type": "code",
    "id": "ih5Ljle14e7r"
   },
   "outputs": [],
   "source": [
    "# Instantiate model with 1000 decision trees\n",
    "rfmin = RandomForestRegressor(n_estimators = 1600, random_state = 42, max_depth = 80, max_features = 'sqrt', min_samples_leaf = 1, min_samples_split = 3, bootstrap = True)\n",
    "\n",
    "# Choose the columns we want to use in the regression!!!\n",
    "column_names_tmin = ['TMAX','TMIN','WMAX','RTOT','mslp','wspd','skct','tmpc','dwpc','pr1h','Avg DWPDEP(C)','Avg LCLD(%)','Max LCLD(%)','Avg MCLD(%)','Avg HCLD(%)','Max HCLD(%)',\n",
    "                     'Avg PRES(hPa)','Max PRES(hPa)','Avg 850hPa DWPDEP(C)','Max 850hPa DWPDEP(C)','Avg 250hPa HGT(m)','Avg 500hPa HGT(m)','Min 850hPa TMPC','Min 925hPa TMPC',\n",
    "                     'Min 250hPa WSPD(m/s)','Min 925hPa WSPD(m/s)','Max 925hPa WSPD(m/s)'] \n",
    "train_vars_tmin = new_features.query('year < 2019')[column_names_tmin] # Get the columns for training\n",
    "test_vars_tmin = new_features.query('year == 2019')[column_names_tmin] # Get the columns for testing\n",
    "\n",
    "# Train the model on training data\n",
    "rfmin.fit(train_vars_tmin, train_labels_tmin);"
   ]
  },
  {
   "cell_type": "code",
   "execution_count": 26,
   "metadata": {
    "colab": {
     "base_uri": "https://localhost:8080/",
     "height": 36
    },
    "colab_type": "code",
    "executionInfo": {
     "elapsed": 616,
     "status": "ok",
     "timestamp": 1586070290635,
     "user": {
      "displayName": "Jeffrey Thayer",
      "photoUrl": "",
      "userId": "05379617383220225538"
     },
     "user_tz": 300
    },
    "id": "PeBy3d1t4e7u",
    "outputId": "52708329-b331-4f27-f0f0-1cbd9dfdbb4a"
   },
   "outputs": [
    {
     "name": "stdout",
     "output_type": "stream",
     "text": [
      "Root Mean Square Error: 2.11 degrees C.\n"
     ]
    }
   ],
   "source": [
    "# Use the forest's predict method on the test data\n",
    "predictions_tmin = rfmin.predict(test_vars_tmin)\n",
    "\n",
    "# Print out the root mean square error (rmse)\n",
    "print('Root Mean Square Error:', round(sqrt(mean_squared_error(test_labels_tmin, predictions_tmin)), 2), 'degrees C.') ##2.11C"
   ]
  },
  {
   "cell_type": "code",
   "execution_count": 27,
   "metadata": {
    "colab": {
     "base_uri": "https://localhost:8080/",
     "height": 521
    },
    "colab_type": "code",
    "executionInfo": {
     "elapsed": 527,
     "status": "ok",
     "timestamp": 1586069337023,
     "user": {
      "displayName": "Jeffrey Thayer",
      "photoUrl": "",
      "userId": "05379617383220225538"
     },
     "user_tz": 300
    },
    "id": "f9cHPt2h4e7z",
    "outputId": "8a517872-6d90-4133-c6f2-15d215a2c57a"
   },
   "outputs": [
    {
     "name": "stdout",
     "output_type": "stream",
     "text": [
      "Variable: Min 925hPa TMPC      Importance: 0.22\n",
      "Variable: tmpc                 Importance: 0.15\n",
      "Variable: Min 850hPa TMPC      Importance: 0.14\n",
      "Variable: TMIN                 Importance: 0.12\n",
      "Variable: TMAX                 Importance: 0.09\n",
      "Variable: dwpc                 Importance: 0.07\n",
      "Variable: Avg 250hPa HGT(m)    Importance: 0.07\n",
      "Variable: Avg 500hPa HGT(m)    Importance: 0.05\n",
      "Variable: Max PRES(hPa)        Importance: 0.02\n",
      "Variable: mslp                 Importance: 0.01\n",
      "Variable: Avg PRES(hPa)        Importance: 0.01\n",
      "Variable: Avg 850hPa DWPDEP(C) Importance: 0.01\n",
      "Variable: Max 850hPa DWPDEP(C) Importance: 0.01\n",
      "Variable: Min 250hPa WSPD(m/s) Importance: 0.01\n",
      "Variable: WMAX                 Importance: 0.0\n",
      "Variable: RTOT                 Importance: 0.0\n",
      "Variable: wspd                 Importance: 0.0\n",
      "Variable: skct                 Importance: 0.0\n",
      "Variable: pr1h                 Importance: 0.0\n",
      "Variable: Avg DWPDEP(C)        Importance: 0.0\n",
      "Variable: Avg LCLD(%)          Importance: 0.0\n",
      "Variable: Max LCLD(%)          Importance: 0.0\n",
      "Variable: Avg MCLD(%)          Importance: 0.0\n",
      "Variable: Avg HCLD(%)          Importance: 0.0\n",
      "Variable: Max HCLD(%)          Importance: 0.0\n",
      "Variable: Min 925hPa WSPD(m/s) Importance: 0.0\n",
      "Variable: Max 925hPa WSPD(m/s) Importance: 0.0\n"
     ]
    }
   ],
   "source": [
    "# Get numerical feature importances\n",
    "importances = list(rfmin.feature_importances_)\n",
    "\n",
    "# List of tuples with variable and importance\n",
    "feature_importances = [(feature, round(importance, 2)) for feature, importance in zip(column_names_tmin, importances)]\n",
    "\n",
    "# Sort the feature importances by most important first\n",
    "feature_importances = sorted(feature_importances, key = lambda x: x[1], reverse = True)\n",
    "\n",
    "# Print out the feature and importances \n",
    "[print('Variable: {:20} Importance: {}'.format(*pair)) for pair in feature_importances];"
   ]
  },
  {
   "cell_type": "code",
   "execution_count": 28,
   "metadata": {},
   "outputs": [
    {
     "data": {
      "image/png": "[encoded data removed]",
      "text/plain": [
       "<Figure size 576x360 with 1 Axes>"
      ]
     },
     "metadata": {},
     "output_type": "display_data"
    }
   ],
   "source": [
    "# Do the plot\n",
    "fig, ax = plt.subplots(figsize = (8,5))\n",
    "ax.plot(test_dates, test_labels_tmin, 'ro', label = 'Observed')\n",
    "ax.plot(test_dates, predictions_tmin, 'b-', label = 'Predicted')\n",
    "# ax.plot(predictions, 'b-')\n",
    "# ax.plot(test_labels, 'ro')\n",
    "ax.set_xlabel('Date')\n",
    "ax.set_ylabel('Temperature ($^\\degree C$)')\n",
    "plt.legend(loc = 'lower center')\n",
    "plt.tight_layout()\n",
    "plt.savefig('./tmin_rf.png', dpi = 500)"
   ]
  },
  {
   "cell_type": "markdown",
   "metadata": {
    "colab_type": "text",
    "id": "bru5O8RH4e74"
   },
   "source": [
    "### Max Wind Speed"
   ]
  },
  {
   "cell_type": "code",
   "execution_count": 29,
   "metadata": {
    "colab": {},
    "colab_type": "code",
    "id": "7H2tnOsq4e75"
   },
   "outputs": [],
   "source": [
    "# New labels, features remain the same\n",
    "train_labels_wmax = np.array(features.query('year < 2019')['Max Wind Speed (m/s)'])\n",
    "test_labels_wmax = np.array(features.query('year == 2019')['Max Wind Speed (m/s)'])"
   ]
  },
  {
   "cell_type": "code",
   "execution_count": 30,
   "metadata": {
    "colab": {
     "base_uri": "https://localhost:8080/",
     "height": 36
    },
    "colab_type": "code",
    "executionInfo": {
     "elapsed": 326,
     "status": "ok",
     "timestamp": 1586070344207,
     "user": {
      "displayName": "Jeffrey Thayer",
      "photoUrl": "",
      "userId": "05379617383220225538"
     },
     "user_tz": 300
    },
    "id": "Duy_SRS84e79",
    "outputId": "23878154-5b75-466c-9460-64dd0c4b83d8"
   },
   "outputs": [
    {
     "name": "stdout",
     "output_type": "stream",
     "text": [
      "Root Mean Square Error: 3.32 m/s.\n"
     ]
    }
   ],
   "source": [
    "# Let's check how well the GFS forecast does. This will be our 'base prediction'\n",
    "print('Root Mean Square Error:', round(sqrt(mean_squared_error(test_labels_wmax, new_features.query('year == 2019')['WMAX'].values)), 2), 'm/s.')"
   ]
  },
  {
   "cell_type": "code",
   "execution_count": 31,
   "metadata": {
    "colab": {},
    "colab_type": "code",
    "id": "iCD4OQaU4e8C"
   },
   "outputs": [
    {
     "data": {
      "text/plain": [
       "RandomForestRegressor(bootstrap=True, ccp_alpha=0.0, criterion='mse',\n",
       "                      max_depth=80, max_features='auto', max_leaf_nodes=None,\n",
       "                      max_samples=None, min_impurity_decrease=0.0,\n",
       "                      min_impurity_split=None, min_samples_leaf=1,\n",
       "                      min_samples_split=3, min_weight_fraction_leaf=0.0,\n",
       "                      n_estimators=1600, n_jobs=None, oob_score=False,\n",
       "                      random_state=42, verbose=0, warm_start=False)"
      ]
     },
     "execution_count": 31,
     "metadata": {},
     "output_type": "execute_result"
    }
   ],
   "source": [
    "# Instantiate model with 1000 decision trees\n",
    "rfwind = RandomForestRegressor(n_estimators = 1600, random_state = 42, max_depth = 80, max_features = 'auto', min_samples_leaf = 1, min_samples_split = 3, bootstrap = True)\n",
    "\n",
    "# Choose the columns we want to use in the regression!!!\n",
    "# column_names_wmax = ['WMAX','tmpc','dwpc','wspd','mslp','skct','day','Min DWPDEP(C)','Avg LCLD(%)','Min LCLD(%)','Avg MCLD(%)','Max MCLD(%)','Avg PRES(hPa)','Min PRES(hPa)','Max PRES(hPa)',\n",
    "#                      'Avg 250hPa HGT(m)','Min 850hPa TMPC','Max 850hPa TMPC','Min 925hPa TMPC','Max 925hPa TMPC','Min 250hPa WSPD(m/s)','Min 500hPa WSPD(m/s)','Max 500hPa WSPD(m/s)',\n",
    "#                      'Min 850hPa WSPD(m/s)','Max 850hPa WSPD(m/s)','Min 925hPa WSPD(m/s)','Max 925hPa WSPD(m/s)','Avg 850hPa WSPD(m/s)','Avg 500hPa TMPC',\n",
    "#                      'Max 500hPa TMPC'] ## (using max_features='sqrt') RMSE = 1.71m/s\n",
    "# train_vars_wmax = new_features.query('year < 2019')[column_names_wmax] # Get the columns for training\n",
    "# test_vars_wmax = new_features.query('year == 2019')[column_names_wmax] # Get the columns for testing\n",
    "train_vars_wmax = new_features.query('year < 2019').drop(columns = ['Date']).to_numpy()\n",
    "test_vars_wmax = new_features.query('year == 2019').drop(columns = ['Date']).to_numpy()\n",
    "\n",
    "# Train the model on training data\n",
    "rfwind.fit(train_vars_wmax, train_labels_wmax)"
   ]
  },
  {
   "cell_type": "code",
   "execution_count": 32,
   "metadata": {
    "colab": {
     "base_uri": "https://localhost:8080/",
     "height": 36
    },
    "colab_type": "code",
    "executionInfo": {
     "elapsed": 522,
     "status": "ok",
     "timestamp": 1586071864302,
     "user": {
      "displayName": "Jeffrey Thayer",
      "photoUrl": "",
      "userId": "05379617383220225538"
     },
     "user_tz": 300
    },
    "id": "jZ20SIp14e8H",
    "outputId": "1b8f0278-46a7-4305-c4f6-dbfb99b4797c"
   },
   "outputs": [
    {
     "name": "stdout",
     "output_type": "stream",
     "text": [
      "Root Mean Square Error: 1.69 m/s.\n"
     ]
    }
   ],
   "source": [
    "# Use the forest's predict method on the test data\n",
    "predictions_wmax = rfwind.predict(test_vars_wmax)\n",
    "for i in np.arange(len(predictions_wmax)):\n",
    "    if predictions_wmax[i] < 0:\n",
    "        predictions_wmax[i] = 0.0\n",
    "\n",
    "# Print out the root mean square error (rmse)\n",
    "print('Root Mean Square Error:', round(sqrt(mean_squared_error(test_labels_wmax, predictions_wmax)), 2), 'm/s.') #All possible columns (using max_features='auto') RMSE = 1.69m/s"
   ]
  },
  {
   "cell_type": "code",
   "execution_count": 33,
   "metadata": {
    "colab": {
     "base_uri": "https://localhost:8080/",
     "height": 1000
    },
    "colab_type": "code",
    "executionInfo": {
     "elapsed": 1184,
     "status": "ok",
     "timestamp": 1586034161611,
     "user": {
      "displayName": "Jeffrey Thayer",
      "photoUrl": "",
      "userId": "05379617383220225538"
     },
     "user_tz": 300
    },
    "id": "4sNbALMp4e8M",
    "outputId": "441543e4-6a77-47ce-a7ac-79d390c9c661"
   },
   "outputs": [
    {
     "name": "stdout",
     "output_type": "stream",
     "text": [
      "Variable: Avg 925hPa WSPD(m/s) Importance: 0.57\n",
      "Variable: Avg 850hPa WSPD(m/s) Importance: 0.1\n",
      "Variable: month                Importance: 0.02\n",
      "Variable: TMAX                 Importance: 0.01\n",
      "Variable: WMAX                 Importance: 0.01\n",
      "Variable: tmpc                 Importance: 0.01\n",
      "Variable: mslp                 Importance: 0.01\n",
      "Variable: wdir                 Importance: 0.01\n",
      "Variable: wspd                 Importance: 0.01\n",
      "Variable: Min 500hPa DWPDEP(C) Importance: 0.01\n",
      "Variable: Min 700hPa HGT(m)    Importance: 0.01\n",
      "Variable: Min 850hPa HGT(m)    Importance: 0.01\n",
      "Variable: Max 500hPa WSPD(m/s) Importance: 0.01\n",
      "Variable: Min 850hPa WSPD(m/s) Importance: 0.01\n",
      "Variable: Min 925hPa WSPD(m/s) Importance: 0.01\n",
      "Variable: Max 925hPa WSPD(m/s) Importance: 0.01\n",
      "Variable: Avg DWPDEP(C)        Importance: 0.01\n",
      "Variable: Max DWPDEP(C)        Importance: 0.01\n",
      "Variable: TMIN                 Importance: 0.0\n",
      "Variable: RTOT                 Importance: 0.0\n",
      "Variable: dwpc                 Importance: 0.0\n",
      "Variable: skct                 Importance: 0.0\n",
      "Variable: pr1h                 Importance: 0.0\n",
      "Variable: Avg 250hPa DWPDEP(C) Importance: 0.0\n",
      "Variable: Min 250hPa DWPDEP(C) Importance: 0.0\n",
      "Variable: Max 250hPa DWPDEP(C) Importance: 0.0\n",
      "Variable: Avg 500hPa DWPDEP(C) Importance: 0.0\n",
      "Variable: Max 500hPa DWPDEP(C) Importance: 0.0\n",
      "Variable: Avg 700hPa DWPDEP(C) Importance: 0.0\n",
      "Variable: Min 700hPa DWPDEP(C) Importance: 0.0\n",
      "Variable: Max 700hPa DWPDEP(C) Importance: 0.0\n",
      "Variable: Avg 850hPa DWPDEP(C) Importance: 0.0\n",
      "Variable: Min 850hPa DWPDEP(C) Importance: 0.0\n",
      "Variable: Max 850hPa DWPDEP(C) Importance: 0.0\n",
      "Variable: Avg 925hPa DWPDEP(C) Importance: 0.0\n",
      "Variable: Min 925hPa DWPDEP(C) Importance: 0.0\n",
      "Variable: Max 925hPa DWPDEP(C) Importance: 0.0\n",
      "Variable: Avg 250hPa HGT(m)    Importance: 0.0\n",
      "Variable: Min 250hPa HGT(m)    Importance: 0.0\n",
      "Variable: Max 250hPa HGT(m)    Importance: 0.0\n",
      "Variable: Avg 500hPa HGT(m)    Importance: 0.0\n",
      "Variable: Min 500hPa HGT(m)    Importance: 0.0\n",
      "Variable: Max 500hPa HGT(m)    Importance: 0.0\n",
      "Variable: Avg 700hPa HGT(m)    Importance: 0.0\n",
      "Variable: Max 700hPa HGT(m)    Importance: 0.0\n",
      "Variable: Avg 850hPa HGT(m)    Importance: 0.0\n",
      "Variable: Max 850hPa HGT(m)    Importance: 0.0\n",
      "Variable: Avg 925hPa HGT(m)    Importance: 0.0\n",
      "Variable: Min 925hPa HGT(m)    Importance: 0.0\n",
      "Variable: Max 925hPa HGT(m)    Importance: 0.0\n",
      "Variable: Avg 250hPa TMPC      Importance: 0.0\n",
      "Variable: Min 250hPa TMPC      Importance: 0.0\n",
      "Variable: Max 250hPa TMPC      Importance: 0.0\n",
      "Variable: Avg 500hPa TMPC      Importance: 0.0\n",
      "Variable: Min 500hPa TMPC      Importance: 0.0\n",
      "Variable: Max 500hPa TMPC      Importance: 0.0\n",
      "Variable: Avg 700hPa TMPC      Importance: 0.0\n",
      "Variable: Min 700hPa TMPC      Importance: 0.0\n",
      "Variable: Max 700hPa TMPC      Importance: 0.0\n",
      "Variable: Avg 850hPa TMPC      Importance: 0.0\n",
      "Variable: Min 850hPa TMPC      Importance: 0.0\n",
      "Variable: Max 850hPa TMPC      Importance: 0.0\n",
      "Variable: Avg 925hPa TMPC      Importance: 0.0\n",
      "Variable: Min 925hPa TMPC      Importance: 0.0\n",
      "Variable: Max 925hPa TMPC      Importance: 0.0\n",
      "Variable: Avg 250hPa WSPD(m/s) Importance: 0.0\n",
      "Variable: Min 250hPa WSPD(m/s) Importance: 0.0\n",
      "Variable: Max 250hPa WSPD(m/s) Importance: 0.0\n",
      "Variable: Avg 500hPa WSPD(m/s) Importance: 0.0\n",
      "Variable: Min 500hPa WSPD(m/s) Importance: 0.0\n",
      "Variable: Avg 700hPa WSPD(m/s) Importance: 0.0\n",
      "Variable: Min 700hPa WSPD(m/s) Importance: 0.0\n",
      "Variable: Max 700hPa WSPD(m/s) Importance: 0.0\n",
      "Variable: Max 850hPa WSPD(m/s) Importance: 0.0\n",
      "Variable: Min DWPDEP(C)        Importance: 0.0\n",
      "Variable: Avg LCLD(%)          Importance: 0.0\n",
      "Variable: Min LCLD(%)          Importance: 0.0\n",
      "Variable: Max LCLD(%)          Importance: 0.0\n",
      "Variable: Avg MCLD(%)          Importance: 0.0\n",
      "Variable: Min MCLD(%)          Importance: 0.0\n",
      "Variable: Max MCLD(%)          Importance: 0.0\n",
      "Variable: Avg HCLD(%)          Importance: 0.0\n",
      "Variable: Min HCLD(%)          Importance: 0.0\n",
      "Variable: Max HCLD(%)          Importance: 0.0\n",
      "Variable: Avg PRES(hPa)        Importance: 0.0\n",
      "Variable: Min PRES(hPa)        Importance: 0.0\n",
      "Variable: Max PRES(hPa)        Importance: 0.0\n",
      "Variable: year                 Importance: 0.0\n",
      "Variable: day                  Importance: 0.0\n"
     ]
    }
   ],
   "source": [
    "# Get numerical feature importances\n",
    "importances = list(rfwind.feature_importances_)\n",
    "\n",
    "# List of tuples with variable and importance\n",
    "feature_importances = [(feature, round(importance, 2)) for feature, importance in zip(new_features.drop(columns = ['Date']).columns, importances)]\n",
    "\n",
    "# Sort the feature importances by most important first\n",
    "feature_importances = sorted(feature_importances, key = lambda x: x[1], reverse = True)\n",
    "\n",
    "# Print out the feature and importances \n",
    "[print('Variable: {:20} Importance: {}'.format(*pair)) for pair in feature_importances];"
   ]
  },
  {
   "cell_type": "code",
   "execution_count": 34,
   "metadata": {},
   "outputs": [
    {
     "data": {
      "image/png": "[encoded data removed]",
      "text/plain": [
       "<Figure size 576x360 with 1 Axes>"
      ]
     },
     "metadata": {},
     "output_type": "display_data"
    }
   ],
   "source": [
    "# Do the plot\n",
    "fig, ax = plt.subplots(figsize = (8,5))\n",
    "ax.plot(test_dates, test_labels_wmax, 'ro', label = 'Observed')\n",
    "ax.plot(test_dates, predictions_wmax, 'b-', label = 'Predicted')\n",
    "# ax.plot(predictions, 'b-')\n",
    "# ax.plot(test_labels, 'ro')\n",
    "ax.set_xlabel('Date')\n",
    "ax.set_ylabel('Wind Speed ($m/s$)')\n",
    "plt.legend(loc = [0.48, 0.78])\n",
    "plt.tight_layout()\n",
    "plt.savefig('./wmax_rf.png', dpi = 500)"
   ]
  },
  {
   "cell_type": "markdown",
   "metadata": {
    "colab_type": "text",
    "id": "JAbS0-MD4e8S"
   },
   "source": [
    "### Total Precipitation"
   ]
  },
  {
   "cell_type": "code",
   "execution_count": 35,
   "metadata": {
    "colab": {},
    "colab_type": "code",
    "id": "CDR3Kqsj4e8S"
   },
   "outputs": [],
   "source": [
    "# New labels, features remain the same\n",
    "train_labels_totalprecip = np.array(features.query('year < 2019')['Daily Precip (mm)'])\n",
    "test_labels_totalprecip = np.array(features.query('year == 2019')['Daily Precip (mm)'])"
   ]
  },
  {
   "cell_type": "code",
   "execution_count": 36,
   "metadata": {
    "colab": {
     "base_uri": "https://localhost:8080/",
     "height": 36
    },
    "colab_type": "code",
    "executionInfo": {
     "elapsed": 389,
     "status": "ok",
     "timestamp": 1586071915627,
     "user": {
      "displayName": "Jeffrey Thayer",
      "photoUrl": "",
      "userId": "05379617383220225538"
     },
     "user_tz": 300
    },
    "id": "z1yX-8dR4e8W",
    "outputId": "5b2edc23-3152-4f5b-d393-b78a90e29808"
   },
   "outputs": [
    {
     "name": "stdout",
     "output_type": "stream",
     "text": [
      "Root Mean Square Error: 8.52 mm.\n"
     ]
    }
   ],
   "source": [
    "# Let's check how well the GFS forecast does. This will be our 'base prediction'\n",
    "print('Root Mean Square Error:', round(sqrt(mean_squared_error(test_labels_totalprecip, new_features.query('year == 2019')['RTOT'].values)), 2), 'mm.')"
   ]
  },
  {
   "cell_type": "code",
   "execution_count": 37,
   "metadata": {
    "colab": {},
    "colab_type": "code",
    "id": "KW-eriew4e8Z"
   },
   "outputs": [],
   "source": [
    "# Instantiate model\n",
    "rfprecip = RandomForestRegressor(n_estimators = 1600, random_state = 42, max_depth = 80, max_features = 'sqrt', min_samples_leaf = 8, min_samples_split = 3, bootstrap = True)\n",
    "\n",
    "## All columns, best parameters RMSE = 4.69mm\n",
    "## Linear Reg best columns, best parameters RMSE = 4.66mm\n",
    "## Linear Reg bester columns, best parameters RMSE = 4.42mm\n",
    "## Linear Reg bester columns, best parameters, forcing predictions to be >=0 RMSE = 4.18mm\n",
    "\n",
    "# Choose the columns we want to use in the regression!!!\n",
    "column_names_totalprecip = ['RTOT','TMAX','TMIN','WMAX','tmpc','mslp','skct','day','Min MCLD(%)','Max MCLD(%)','Max HCLD(%)','Avg PRES(hPa)','Min 850hPa DWPDEP(C)','Max 850hPa DWPDEP(C)',\n",
    "                            'Avg 500hPa HGT(m)','Max 500hPa WSPD(m/s)','Max 925hPa WSPD(m/s)','Avg 850hPa WSPD(m/s)','Avg 500hPa WSPD(m/s)','Avg 250hPa DWPDEP(C)',\n",
    "                            'Avg 500hPa DWPDEP(C)','Min 500hPa DWPDEP(C)','Avg 700hPa DWPDEP(C)','Min 700hPa DWPDEP(C)','Avg 850hPa DWPDEP(C)']\n",
    "train_vars_totalprecip = new_features.query('year < 2019')[column_names_totalprecip] # Get the columns for training\n",
    "test_vars_totalprecip = new_features.query('year == 2019')[column_names_totalprecip] # Get the columns for testing\n",
    "\n",
    "# Train the model on training data\n",
    "rfprecip.fit(train_vars_totalprecip, train_labels_totalprecip);"
   ]
  },
  {
   "cell_type": "code",
   "execution_count": 38,
   "metadata": {
    "colab": {
     "base_uri": "https://localhost:8080/",
     "height": 36
    },
    "colab_type": "code",
    "executionInfo": {
     "elapsed": 317,
     "status": "ok",
     "timestamp": 1586073456425,
     "user": {
      "displayName": "Jeffrey Thayer",
      "photoUrl": "",
      "userId": "05379617383220225538"
     },
     "user_tz": 300
    },
    "id": "R1jxA9vP4e8c",
    "outputId": "bd8c22a1-5e71-479a-c962-510f1be86e1c"
   },
   "outputs": [
    {
     "name": "stdout",
     "output_type": "stream",
     "text": [
      "Root Mean Square Error: 4.18 mm.\n"
     ]
    }
   ],
   "source": [
    "# Use the forest's predict method on the test data\n",
    "predictions_totalprecip = rfprecip.predict(test_vars_totalprecip)\n",
    "for i in np.arange(len(predictions_totalprecip)):\n",
    "    if predictions_totalprecip[i] < 0:\n",
    "        predictions_totalprecip[i] = 0.0\n",
    "\n",
    "# Print out the root mean square error (rmse)\n",
    "print('Root Mean Square Error:', round(sqrt(mean_squared_error(test_labels_totalprecip, predictions_totalprecip)), 2), 'mm.')"
   ]
  },
  {
   "cell_type": "code",
   "execution_count": 39,
   "metadata": {
    "colab": {
     "base_uri": "https://localhost:8080/",
     "height": 334
    },
    "colab_type": "code",
    "executionInfo": {
     "elapsed": 738,
     "status": "ok",
     "timestamp": 1586034191449,
     "user": {
      "displayName": "Jeffrey Thayer",
      "photoUrl": "",
      "userId": "05379617383220225538"
     },
     "user_tz": 300
    },
    "id": "Wgk6ZMbm4e8i",
    "outputId": "89381d82-36b5-4f6f-e074-905bbd0323bf"
   },
   "outputs": [
    {
     "data": {
      "image/png": "[encoded data removed]",
      "text/plain": [
       "<Figure size 576x360 with 1 Axes>"
      ]
     },
     "metadata": {},
     "output_type": "display_data"
    }
   ],
   "source": [
    "# Do the plot\n",
    "fig, ax = plt.subplots(figsize = (8,5))\n",
    "ax.plot(test_dates, test_labels_totalprecip, 'ro', label = 'Observed')\n",
    "ax.plot(test_dates, predictions_totalprecip, 'b-', label = 'Predicted')\n",
    "# ax.plot(predictions, 'b-')\n",
    "# ax.plot(test_labels, 'ro')\n",
    "ax.set_xlabel('Date')\n",
    "ax.set_ylabel('Precipitation ($mm$)')\n",
    "plt.legend(loc = 'upper right')\n",
    "plt.tight_layout()\n",
    "plt.savefig('./prcp_rf.png', dpi = 500)"
   ]
  },
  {
   "cell_type": "code",
   "execution_count": 40,
   "metadata": {
    "colab": {
     "base_uri": "https://localhost:8080/",
     "height": 335
    },
    "colab_type": "code",
    "executionInfo": {
     "elapsed": 658,
     "status": "ok",
     "timestamp": 1586034195954,
     "user": {
      "displayName": "Jeffrey Thayer",
      "photoUrl": "",
      "userId": "05379617383220225538"
     },
     "user_tz": 300
    },
    "id": "MOX2BD_o4e8m",
    "outputId": "e9474b3a-ecf6-493b-e723-dee59cd5f744"
   },
   "outputs": [
    {
     "name": "stdout",
     "output_type": "stream",
     "text": [
      "Variable: Min 500hPa DWPDEP(C) Importance: 0.14\n",
      "Variable: Min 700hPa DWPDEP(C) Importance: 0.1\n",
      "Variable: Avg PRES(hPa)        Importance: 0.09\n",
      "Variable: Avg 700hPa DWPDEP(C) Importance: 0.08\n",
      "Variable: Avg 850hPa DWPDEP(C) Importance: 0.07\n",
      "Variable: Max HCLD(%)          Importance: 0.04\n",
      "Variable: Min 850hPa DWPDEP(C) Importance: 0.04\n",
      "Variable: Max 850hPa DWPDEP(C) Importance: 0.04\n",
      "Variable: Avg 500hPa HGT(m)    Importance: 0.04\n",
      "Variable: Avg 500hPa DWPDEP(C) Importance: 0.04\n",
      "Variable: RTOT                 Importance: 0.03\n",
      "Variable: tmpc                 Importance: 0.03\n",
      "Variable: mslp                 Importance: 0.03\n",
      "Variable: skct                 Importance: 0.03\n",
      "Variable: Max MCLD(%)          Importance: 0.03\n",
      "Variable: Avg 250hPa DWPDEP(C) Importance: 0.03\n",
      "Variable: TMAX                 Importance: 0.02\n",
      "Variable: TMIN                 Importance: 0.02\n",
      "Variable: WMAX                 Importance: 0.02\n",
      "Variable: Max 500hPa WSPD(m/s) Importance: 0.02\n",
      "Variable: Max 925hPa WSPD(m/s) Importance: 0.02\n",
      "Variable: Avg 850hPa WSPD(m/s) Importance: 0.02\n",
      "Variable: Avg 500hPa WSPD(m/s) Importance: 0.02\n",
      "Variable: day                  Importance: 0.01\n",
      "Variable: Min MCLD(%)          Importance: 0.0\n"
     ]
    }
   ],
   "source": [
    "# Get numerical feature importances\n",
    "importances = list(rfprecip.feature_importances_)\n",
    "\n",
    "# List of tuples with variable and importance\n",
    "feature_importances = [(feature, round(importance, 2)) for feature, importance in zip(column_names_totalprecip, importances)]\n",
    "\n",
    "# Sort the feature importances by most important first\n",
    "feature_importances = sorted(feature_importances, key = lambda x: x[1], reverse = True)\n",
    "\n",
    "# Print out the feature and importances \n",
    "[print('Variable: {:20} Importance: {}'.format(*pair)) for pair in feature_importances];"
   ]
  },
  {
   "cell_type": "code",
   "execution_count": null,
   "metadata": {
    "colab": {},
    "colab_type": "code",
    "id": "GjOBgjvM4e8o"
   },
   "outputs": [],
   "source": []
  }
 ],
 "metadata": {
  "colab": {
   "collapsed_sections": [],
   "name": "RandomForest.ipynb",
   "provenance": []
  },
  "kernelspec": {
   "display_name": "Python 3",
   "language": "python",
   "name": "python3"
  },
  "language_info": {
   "codemirror_mode": {
    "name": "ipython",
    "version": 3
   },
   "file_extension": ".py",
   "mimetype": "text/x-python",
   "name": "python",
   "nbconvert_exporter": "python",
   "pygments_lexer": "ipython3",
   "version": "3.7.6"
  }
 },
 "nbformat": 4,
 "nbformat_minor": 4
}
