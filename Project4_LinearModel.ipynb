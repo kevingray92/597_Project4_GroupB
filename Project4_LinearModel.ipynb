{
 "cells": [
  {
   "cell_type": "markdown",
   "metadata": {
    "colab_type": "text",
    "id": "view-in-github"
   },
   "source": [
    "<a href=\"https://colab.research.google.com/github/kevingray92/597_Project4_GroupB/blob/tuning/Project4_LinearModel.ipynb\" target=\"_parent\"><img src=\"https://colab.research.google.com/assets/colab-badge.svg\" alt=\"Open In Colab\"/></a>"
   ]
  },
  {
   "cell_type": "code",
   "execution_count": 25,
   "metadata": {
    "colab": {},
    "colab_type": "code",
    "id": "KMGkL7nBhxMw"
   },
   "outputs": [],
   "source": [
    "%matplotlib inline\n",
    "import matplotlib.pyplot as plt\n",
    "import seaborn as sns; sns.set(font_scale = 1.5)\n",
    "import numpy as np\n",
    "import pandas as pd\n",
    "from sklearn.metrics import mean_squared_error\n",
    "from math import sqrt"
   ]
  },
  {
   "cell_type": "code",
   "execution_count": 2,
   "metadata": {
    "colab": {
     "base_uri": "https://localhost:8080/",
     "height": 36
    },
    "colab_type": "code",
    "executionInfo": {
     "elapsed": 403,
     "status": "ok",
     "timestamp": 1586065508270,
     "user": {
      "displayName": "Jeffrey Thayer",
      "photoUrl": "",
      "userId": "05379617383220225538"
     },
     "user_tz": 300
    },
    "id": "jJhu6eHZa3nO",
    "outputId": "af591716-265c-42a4-e91e-c13e2b62ab77"
   },
   "outputs": [
    {
     "ename": "ModuleNotFoundError",
     "evalue": "No module named 'google.colab'",
     "output_type": "error",
     "traceback": [
      "\u001b[0;31m---------------------------------------------------------------------------\u001b[0m",
      "\u001b[0;31mModuleNotFoundError\u001b[0m                       Traceback (most recent call last)",
      "\u001b[0;32m<ipython-input-2-d5df0069828e>\u001b[0m in \u001b[0;36m<module>\u001b[0;34m\u001b[0m\n\u001b[0;32m----> 1\u001b[0;31m \u001b[0;32mfrom\u001b[0m \u001b[0mgoogle\u001b[0m\u001b[0;34m.\u001b[0m\u001b[0mcolab\u001b[0m \u001b[0;32mimport\u001b[0m \u001b[0mdrive\u001b[0m\u001b[0;34m\u001b[0m\u001b[0;34m\u001b[0m\u001b[0m\n\u001b[0m\u001b[1;32m      2\u001b[0m \u001b[0mdrive\u001b[0m\u001b[0;34m.\u001b[0m\u001b[0mmount\u001b[0m\u001b[0;34m(\u001b[0m\u001b[0;34m'/content/drive'\u001b[0m\u001b[0;34m)\u001b[0m\u001b[0;34m\u001b[0m\u001b[0;34m\u001b[0m\u001b[0m\n",
      "\u001b[0;31mModuleNotFoundError\u001b[0m: No module named 'google.colab'"
     ]
    }
   ],
   "source": [
    "# from google.colab import drive\n",
    "# drive.mount('/content/drive')"
   ]
  },
  {
   "cell_type": "code",
   "execution_count": 6,
   "metadata": {},
   "outputs": [],
   "source": [
    "# Read in datafiles\n",
    "# gfs = pd.read_csv('/content/drive/My Drive/Colab Notebooks/Project_4/GFSDaily/GFS_Daily_PredictVars_2010thru2019.csv', index_col = 'Date', usecols = ['Date', 'TMAX', 'TMIN', 'WMAX', 'RTOT'], parse_dates = True)\n",
    "gfs = pd.read_csv('./raw_data/GFS_Daily_PredictVars_2010thru2019.csv', index_col = 'Date', usecols = ['Date', 'TMAX', 'TMIN', 'WMAX', 'RTOT'], parse_dates = True)\n",
    "# gfsfs = pd.read_csv('./raw_data/GFS_Sfc_42hrFcst_2010thru2019.csv', skiprows=1, index_col = 'Date', parse_dates = True)\n",
    "# hourly = pd.read_csv('/content/drive/My Drive/Colab Notebooks/Project_4/KCMI_hourly_tidy.csv', index_col = 'Timestamp', parse_dates = True)\n",
    "oldobs = pd.read_csv('./raw_data/KCMI_hourly_tidy.csv', index_col = 'Timestamp', parse_dates = True)\n",
    "oldobs.index = oldobs.index + pd.DateOffset(hours=12)  # Align times\n",
    "\n",
    "# obs = pd.read_csv('/content/drive/My Drive/Colab Notebooks/Project_4/KCMI_daily_tidy.csv', index_col = 'Date', parse_dates = True)\n",
    "obs = pd.read_csv('./raw_data/KCMI_daily_tidy.csv', index_col = 'Date', parse_dates = True)\n",
    "obs.index = obs.index + pd.DateOffset(hours=12)  # Align times\n",
    "\n",
    "# sfc = pd.read_csv('/content/drive/My Drive/Colab Notebooks/Project_4/GFSSfc/GFS_Sfc_06Zto06ZAvgMinMax_AdditionalVars_2010thru2019.csv',  index_col = 'Unnamed: 0', parse_dates = True)\n",
    "gfs_sfc = pd.read_csv('./raw_data/GFS_Sfc_06Zto06ZAvgMinMax_AdditionalVars_2010thru2019.csv',  index_col = 'Unnamed: 0', parse_dates = True)\n",
    "gfs_sfc.index = gfs_sfc.index + pd.DateOffset(days=1)  # Align times\n",
    "# prof = pd.read_csv('/content/drive/My Drive/Colab Notebooks/Project_4/GFSProfile/GFS_Prof_06Zto06ZAvgMinMax_2010thru2019.csv',  index_col = 'Unnamed: 0', parse_dates = True)\n",
    "gfs_prof = pd.read_csv('./raw_data/GFS_Prof_06Zto06ZAvgMinMax_2010thru2019.csv',  index_col = 'Unnamed: 0', parse_dates = True)\n",
    "gfs_prof.index = gfs_prof.index + pd.DateOffset(days=1)  # Align times"
   ]
  },
  {
   "cell_type": "code",
   "execution_count": 11,
   "metadata": {
    "colab": {},
    "colab_type": "code",
    "id": "gK9isSu-l98G"
   },
   "outputs": [],
   "source": [
    "# Merge and drop all days with missing values \n",
    "features = pd.merge(obs.reset_index(), gfs.reset_index(), on = 'Date', how = 'inner')\n",
    "features = pd.merge(features, oldobs.reset_index(), left_on = 'Date', right_on = 'Timestamp', how = 'inner').drop(columns = 'Timestamp')\n",
    "features = pd.merge(features, gfs_sfc.reset_index(), how = 'inner', left_on = 'Date', right_on = 'index').drop(columns = 'index')\n",
    "features = pd.merge(features, gfs_prof.reset_index(), how = 'inner', left_on = 'Date', right_on = 'index').drop(columns = 'index')\n",
    "features.dropna(inplace = True)  # There are some NaNs in the observations"
   ]
  },
  {
   "cell_type": "code",
   "execution_count": 12,
   "metadata": {
    "colab": {
     "base_uri": "https://localhost:8080/",
     "height": 669
    },
    "colab_type": "code",
    "executionInfo": {
     "elapsed": 423,
     "status": "ok",
     "timestamp": 1586065516145,
     "user": {
      "displayName": "Jeffrey Thayer",
      "photoUrl": "",
      "userId": "05379617383220225538"
     },
     "user_tz": 300
    },
    "id": "jeDZZULMm3w3",
    "outputId": "f289a005-d2d3-4281-fa09-241193e2c1d6"
   },
   "outputs": [
    {
     "data": {
      "text/html": [
       "<div>\n",
       "<style scoped>\n",
       "    .dataframe tbody tr th:only-of-type {\n",
       "        vertical-align: middle;\n",
       "    }\n",
       "\n",
       "    .dataframe tbody tr th {\n",
       "        vertical-align: top;\n",
       "    }\n",
       "\n",
       "    .dataframe thead th {\n",
       "        text-align: right;\n",
       "    }\n",
       "</style>\n",
       "<table border=\"1\" class=\"dataframe\">\n",
       "  <thead>\n",
       "    <tr style=\"text-align: right;\">\n",
       "      <th></th>\n",
       "      <th>Date</th>\n",
       "      <th>Max Hourly Temp (C)</th>\n",
       "      <th>Min Hourly Temp (C)</th>\n",
       "      <th>Max Wind Speed (m/s)</th>\n",
       "      <th>Daily Precip (mm)</th>\n",
       "      <th>TMAX</th>\n",
       "      <th>TMIN</th>\n",
       "      <th>WMAX</th>\n",
       "      <th>RTOT</th>\n",
       "      <th>tmpc</th>\n",
       "      <th>...</th>\n",
       "      <th>Max 500hPa WSPD(m/s)</th>\n",
       "      <th>Avg 700hPa WSPD(m/s)</th>\n",
       "      <th>Min 700hPa WSPD(m/s)</th>\n",
       "      <th>Max 700hPa WSPD(m/s)</th>\n",
       "      <th>Avg 850hPa WSPD(m/s)</th>\n",
       "      <th>Min 850hPa WSPD(m/s)</th>\n",
       "      <th>Max 850hPa WSPD(m/s)</th>\n",
       "      <th>Avg 925hPa WSPD(m/s)</th>\n",
       "      <th>Min 925hPa WSPD(m/s)</th>\n",
       "      <th>Max 925hPa WSPD(m/s)</th>\n",
       "    </tr>\n",
       "  </thead>\n",
       "  <tbody>\n",
       "    <tr>\n",
       "      <th>0</th>\n",
       "      <td>2010-01-02 12:00:00</td>\n",
       "      <td>-14.444444</td>\n",
       "      <td>-20.555556</td>\n",
       "      <td>6.70560</td>\n",
       "      <td>0.0</td>\n",
       "      <td>-10.16</td>\n",
       "      <td>-15.96</td>\n",
       "      <td>4.687217</td>\n",
       "      <td>0.00</td>\n",
       "      <td>-13.325000</td>\n",
       "      <td>...</td>\n",
       "      <td>81.098451</td>\n",
       "      <td>42.152778</td>\n",
       "      <td>34.424511</td>\n",
       "      <td>49.295660</td>\n",
       "      <td>23.064628</td>\n",
       "      <td>13.817925</td>\n",
       "      <td>28.554695</td>\n",
       "      <td>19.953517</td>\n",
       "      <td>8.720833</td>\n",
       "      <td>28.288681</td>\n",
       "    </tr>\n",
       "    <tr>\n",
       "      <th>1</th>\n",
       "      <td>2010-01-03 12:00:00</td>\n",
       "      <td>-12.222222</td>\n",
       "      <td>-21.111111</td>\n",
       "      <td>4.91744</td>\n",
       "      <td>0.0</td>\n",
       "      <td>-9.96</td>\n",
       "      <td>-14.36</td>\n",
       "      <td>5.941380</td>\n",
       "      <td>0.06</td>\n",
       "      <td>-16.525000</td>\n",
       "      <td>...</td>\n",
       "      <td>53.195702</td>\n",
       "      <td>25.438911</td>\n",
       "      <td>17.646877</td>\n",
       "      <td>35.820786</td>\n",
       "      <td>14.311850</td>\n",
       "      <td>9.187170</td>\n",
       "      <td>25.595962</td>\n",
       "      <td>10.221142</td>\n",
       "      <td>4.890000</td>\n",
       "      <td>14.984583</td>\n",
       "    </tr>\n",
       "    <tr>\n",
       "      <th>2</th>\n",
       "      <td>2010-01-04 12:00:00</td>\n",
       "      <td>-11.666667</td>\n",
       "      <td>-18.888889</td>\n",
       "      <td>8.94080</td>\n",
       "      <td>0.0</td>\n",
       "      <td>-8.46</td>\n",
       "      <td>-12.86</td>\n",
       "      <td>5.685068</td>\n",
       "      <td>0.17</td>\n",
       "      <td>-15.325000</td>\n",
       "      <td>...</td>\n",
       "      <td>35.140197</td>\n",
       "      <td>23.771384</td>\n",
       "      <td>19.235868</td>\n",
       "      <td>25.638797</td>\n",
       "      <td>19.625230</td>\n",
       "      <td>16.236038</td>\n",
       "      <td>22.569057</td>\n",
       "      <td>19.681558</td>\n",
       "      <td>15.286250</td>\n",
       "      <td>22.735308</td>\n",
       "    </tr>\n",
       "    <tr>\n",
       "      <th>3</th>\n",
       "      <td>2010-01-05 12:00:00</td>\n",
       "      <td>-12.222222</td>\n",
       "      <td>-18.333333</td>\n",
       "      <td>7.15264</td>\n",
       "      <td>0.0</td>\n",
       "      <td>-7.16</td>\n",
       "      <td>-11.06</td>\n",
       "      <td>3.794733</td>\n",
       "      <td>0.77</td>\n",
       "      <td>-14.441667</td>\n",
       "      <td>...</td>\n",
       "      <td>28.346544</td>\n",
       "      <td>24.396785</td>\n",
       "      <td>19.934000</td>\n",
       "      <td>27.894286</td>\n",
       "      <td>19.975509</td>\n",
       "      <td>18.732500</td>\n",
       "      <td>21.650755</td>\n",
       "      <td>17.501740</td>\n",
       "      <td>14.371860</td>\n",
       "      <td>20.754109</td>\n",
       "    </tr>\n",
       "    <tr>\n",
       "      <th>4</th>\n",
       "      <td>2010-01-06 12:00:00</td>\n",
       "      <td>-7.777778</td>\n",
       "      <td>-19.444444</td>\n",
       "      <td>3.57632</td>\n",
       "      <td>0.0</td>\n",
       "      <td>-5.46</td>\n",
       "      <td>-7.46</td>\n",
       "      <td>9.548298</td>\n",
       "      <td>7.10</td>\n",
       "      <td>-15.133333</td>\n",
       "      <td>...</td>\n",
       "      <td>44.823732</td>\n",
       "      <td>20.205024</td>\n",
       "      <td>16.191438</td>\n",
       "      <td>25.625084</td>\n",
       "      <td>12.570186</td>\n",
       "      <td>5.498429</td>\n",
       "      <td>15.381368</td>\n",
       "      <td>9.269647</td>\n",
       "      <td>4.237442</td>\n",
       "      <td>14.102946</td>\n",
       "    </tr>\n",
       "    <tr>\n",
       "      <th>...</th>\n",
       "      <td>...</td>\n",
       "      <td>...</td>\n",
       "      <td>...</td>\n",
       "      <td>...</td>\n",
       "      <td>...</td>\n",
       "      <td>...</td>\n",
       "      <td>...</td>\n",
       "      <td>...</td>\n",
       "      <td>...</td>\n",
       "      <td>...</td>\n",
       "      <td>...</td>\n",
       "      <td>...</td>\n",
       "      <td>...</td>\n",
       "      <td>...</td>\n",
       "      <td>...</td>\n",
       "      <td>...</td>\n",
       "      <td>...</td>\n",
       "      <td>...</td>\n",
       "      <td>...</td>\n",
       "      <td>...</td>\n",
       "      <td>...</td>\n",
       "    </tr>\n",
       "    <tr>\n",
       "      <th>3607</th>\n",
       "      <td>2019-12-26 12:00:00</td>\n",
       "      <td>16.666667</td>\n",
       "      <td>7.777778</td>\n",
       "      <td>8.04672</td>\n",
       "      <td>0.0</td>\n",
       "      <td>11.84</td>\n",
       "      <td>3.84</td>\n",
       "      <td>4.301163</td>\n",
       "      <td>0.00</td>\n",
       "      <td>10.600000</td>\n",
       "      <td>...</td>\n",
       "      <td>59.751371</td>\n",
       "      <td>37.952082</td>\n",
       "      <td>31.013490</td>\n",
       "      <td>44.672896</td>\n",
       "      <td>25.810623</td>\n",
       "      <td>21.320890</td>\n",
       "      <td>30.963770</td>\n",
       "      <td>26.814800</td>\n",
       "      <td>21.482578</td>\n",
       "      <td>37.140781</td>\n",
       "    </tr>\n",
       "    <tr>\n",
       "      <th>3608</th>\n",
       "      <td>2019-12-27 12:00:00</td>\n",
       "      <td>6.111111</td>\n",
       "      <td>0.000000</td>\n",
       "      <td>6.70560</td>\n",
       "      <td>0.0</td>\n",
       "      <td>13.94</td>\n",
       "      <td>3.54</td>\n",
       "      <td>8.819297</td>\n",
       "      <td>2.73</td>\n",
       "      <td>13.466667</td>\n",
       "      <td>...</td>\n",
       "      <td>62.209288</td>\n",
       "      <td>32.538261</td>\n",
       "      <td>28.161143</td>\n",
       "      <td>36.787191</td>\n",
       "      <td>15.922431</td>\n",
       "      <td>7.084645</td>\n",
       "      <td>30.112905</td>\n",
       "      <td>11.063626</td>\n",
       "      <td>2.659612</td>\n",
       "      <td>19.459845</td>\n",
       "    </tr>\n",
       "    <tr>\n",
       "      <th>3609</th>\n",
       "      <td>2019-12-28 12:00:00</td>\n",
       "      <td>13.333333</td>\n",
       "      <td>0.000000</td>\n",
       "      <td>10.28192</td>\n",
       "      <td>0.0</td>\n",
       "      <td>15.94</td>\n",
       "      <td>9.34</td>\n",
       "      <td>9.701546</td>\n",
       "      <td>11.58</td>\n",
       "      <td>2.816667</td>\n",
       "      <td>...</td>\n",
       "      <td>58.983266</td>\n",
       "      <td>31.715933</td>\n",
       "      <td>25.341846</td>\n",
       "      <td>48.791633</td>\n",
       "      <td>26.784180</td>\n",
       "      <td>8.002227</td>\n",
       "      <td>45.052275</td>\n",
       "      <td>26.167360</td>\n",
       "      <td>10.053231</td>\n",
       "      <td>38.476842</td>\n",
       "    </tr>\n",
       "    <tr>\n",
       "      <th>3610</th>\n",
       "      <td>2019-12-29 12:00:00</td>\n",
       "      <td>15.000000</td>\n",
       "      <td>5.000000</td>\n",
       "      <td>10.28192</td>\n",
       "      <td>6.1</td>\n",
       "      <td>7.24</td>\n",
       "      <td>-1.66</td>\n",
       "      <td>11.111256</td>\n",
       "      <td>2.57</td>\n",
       "      <td>7.141667</td>\n",
       "      <td>...</td>\n",
       "      <td>81.016531</td>\n",
       "      <td>45.101667</td>\n",
       "      <td>22.258729</td>\n",
       "      <td>62.694164</td>\n",
       "      <td>33.025519</td>\n",
       "      <td>21.384894</td>\n",
       "      <td>51.254681</td>\n",
       "      <td>29.166539</td>\n",
       "      <td>21.751150</td>\n",
       "      <td>40.815965</td>\n",
       "    </tr>\n",
       "    <tr>\n",
       "      <th>3611</th>\n",
       "      <td>2019-12-30 12:00:00</td>\n",
       "      <td>3.333333</td>\n",
       "      <td>-0.555556</td>\n",
       "      <td>11.62304</td>\n",
       "      <td>1.0</td>\n",
       "      <td>-0.36</td>\n",
       "      <td>-2.26</td>\n",
       "      <td>8.769265</td>\n",
       "      <td>0.04</td>\n",
       "      <td>12.266667</td>\n",
       "      <td>...</td>\n",
       "      <td>66.597201</td>\n",
       "      <td>38.468874</td>\n",
       "      <td>14.315897</td>\n",
       "      <td>52.693584</td>\n",
       "      <td>33.542862</td>\n",
       "      <td>25.752406</td>\n",
       "      <td>40.141429</td>\n",
       "      <td>30.906071</td>\n",
       "      <td>27.018407</td>\n",
       "      <td>35.787228</td>\n",
       "    </tr>\n",
       "  </tbody>\n",
       "</table>\n",
       "<p>3231 rows × 91 columns</p>\n",
       "</div>"
      ],
      "text/plain": [
       "                    Date  Max Hourly Temp (C)  Min Hourly Temp (C)  \\\n",
       "0    2010-01-02 12:00:00           -14.444444           -20.555556   \n",
       "1    2010-01-03 12:00:00           -12.222222           -21.111111   \n",
       "2    2010-01-04 12:00:00           -11.666667           -18.888889   \n",
       "3    2010-01-05 12:00:00           -12.222222           -18.333333   \n",
       "4    2010-01-06 12:00:00            -7.777778           -19.444444   \n",
       "...                  ...                  ...                  ...   \n",
       "3607 2019-12-26 12:00:00            16.666667             7.777778   \n",
       "3608 2019-12-27 12:00:00             6.111111             0.000000   \n",
       "3609 2019-12-28 12:00:00            13.333333             0.000000   \n",
       "3610 2019-12-29 12:00:00            15.000000             5.000000   \n",
       "3611 2019-12-30 12:00:00             3.333333            -0.555556   \n",
       "\n",
       "      Max Wind Speed (m/s)  Daily Precip (mm)   TMAX   TMIN       WMAX   RTOT  \\\n",
       "0                  6.70560                0.0 -10.16 -15.96   4.687217   0.00   \n",
       "1                  4.91744                0.0  -9.96 -14.36   5.941380   0.06   \n",
       "2                  8.94080                0.0  -8.46 -12.86   5.685068   0.17   \n",
       "3                  7.15264                0.0  -7.16 -11.06   3.794733   0.77   \n",
       "4                  3.57632                0.0  -5.46  -7.46   9.548298   7.10   \n",
       "...                    ...                ...    ...    ...        ...    ...   \n",
       "3607               8.04672                0.0  11.84   3.84   4.301163   0.00   \n",
       "3608               6.70560                0.0  13.94   3.54   8.819297   2.73   \n",
       "3609              10.28192                0.0  15.94   9.34   9.701546  11.58   \n",
       "3610              10.28192                6.1   7.24  -1.66  11.111256   2.57   \n",
       "3611              11.62304                1.0  -0.36  -2.26   8.769265   0.04   \n",
       "\n",
       "           tmpc  ...  Max 500hPa WSPD(m/s)  Avg 700hPa WSPD(m/s)  \\\n",
       "0    -13.325000  ...             81.098451             42.152778   \n",
       "1    -16.525000  ...             53.195702             25.438911   \n",
       "2    -15.325000  ...             35.140197             23.771384   \n",
       "3    -14.441667  ...             28.346544             24.396785   \n",
       "4    -15.133333  ...             44.823732             20.205024   \n",
       "...         ...  ...                   ...                   ...   \n",
       "3607  10.600000  ...             59.751371             37.952082   \n",
       "3608  13.466667  ...             62.209288             32.538261   \n",
       "3609   2.816667  ...             58.983266             31.715933   \n",
       "3610   7.141667  ...             81.016531             45.101667   \n",
       "3611  12.266667  ...             66.597201             38.468874   \n",
       "\n",
       "      Min 700hPa WSPD(m/s)  Max 700hPa WSPD(m/s)  Avg 850hPa WSPD(m/s)  \\\n",
       "0                34.424511             49.295660             23.064628   \n",
       "1                17.646877             35.820786             14.311850   \n",
       "2                19.235868             25.638797             19.625230   \n",
       "3                19.934000             27.894286             19.975509   \n",
       "4                16.191438             25.625084             12.570186   \n",
       "...                    ...                   ...                   ...   \n",
       "3607             31.013490             44.672896             25.810623   \n",
       "3608             28.161143             36.787191             15.922431   \n",
       "3609             25.341846             48.791633             26.784180   \n",
       "3610             22.258729             62.694164             33.025519   \n",
       "3611             14.315897             52.693584             33.542862   \n",
       "\n",
       "      Min 850hPa WSPD(m/s)  Max 850hPa WSPD(m/s)  Avg 925hPa WSPD(m/s)  \\\n",
       "0                13.817925             28.554695             19.953517   \n",
       "1                 9.187170             25.595962             10.221142   \n",
       "2                16.236038             22.569057             19.681558   \n",
       "3                18.732500             21.650755             17.501740   \n",
       "4                 5.498429             15.381368              9.269647   \n",
       "...                    ...                   ...                   ...   \n",
       "3607             21.320890             30.963770             26.814800   \n",
       "3608              7.084645             30.112905             11.063626   \n",
       "3609              8.002227             45.052275             26.167360   \n",
       "3610             21.384894             51.254681             29.166539   \n",
       "3611             25.752406             40.141429             30.906071   \n",
       "\n",
       "      Min 925hPa WSPD(m/s)  Max 925hPa WSPD(m/s)  \n",
       "0                 8.720833             28.288681  \n",
       "1                 4.890000             14.984583  \n",
       "2                15.286250             22.735308  \n",
       "3                14.371860             20.754109  \n",
       "4                 4.237442             14.102946  \n",
       "...                    ...                   ...  \n",
       "3607             21.482578             37.140781  \n",
       "3608              2.659612             19.459845  \n",
       "3609             10.053231             38.476842  \n",
       "3610             21.751150             40.815965  \n",
       "3611             27.018407             35.787228  \n",
       "\n",
       "[3231 rows x 91 columns]"
      ]
     },
     "execution_count": 12,
     "metadata": {},
     "output_type": "execute_result"
    }
   ],
   "source": [
    "features"
   ]
  },
  {
   "cell_type": "code",
   "execution_count": 13,
   "metadata": {
    "colab": {
     "base_uri": "https://localhost:8080/",
     "height": 384
    },
    "colab_type": "code",
    "executionInfo": {
     "elapsed": 663,
     "status": "ok",
     "timestamp": 1586065519729,
     "user": {
      "displayName": "Jeffrey Thayer",
      "photoUrl": "",
      "userId": "05379617383220225538"
     },
     "user_tz": 300
    },
    "id": "DGaGydgNm6fc",
    "outputId": "df673928-4a0f-4e1d-a79e-55ea59970293"
   },
   "outputs": [
    {
     "data": {
      "text/html": [
       "<div>\n",
       "<style scoped>\n",
       "    .dataframe tbody tr th:only-of-type {\n",
       "        vertical-align: middle;\n",
       "    }\n",
       "\n",
       "    .dataframe tbody tr th {\n",
       "        vertical-align: top;\n",
       "    }\n",
       "\n",
       "    .dataframe thead th {\n",
       "        text-align: right;\n",
       "    }\n",
       "</style>\n",
       "<table border=\"1\" class=\"dataframe\">\n",
       "  <thead>\n",
       "    <tr style=\"text-align: right;\">\n",
       "      <th></th>\n",
       "      <th>Max Hourly Temp (C)</th>\n",
       "      <th>Min Hourly Temp (C)</th>\n",
       "      <th>Max Wind Speed (m/s)</th>\n",
       "      <th>Daily Precip (mm)</th>\n",
       "      <th>TMAX</th>\n",
       "      <th>TMIN</th>\n",
       "      <th>WMAX</th>\n",
       "      <th>RTOT</th>\n",
       "      <th>tmpc</th>\n",
       "      <th>dwpc</th>\n",
       "      <th>...</th>\n",
       "      <th>Max 500hPa WSPD(m/s)</th>\n",
       "      <th>Avg 700hPa WSPD(m/s)</th>\n",
       "      <th>Min 700hPa WSPD(m/s)</th>\n",
       "      <th>Max 700hPa WSPD(m/s)</th>\n",
       "      <th>Avg 850hPa WSPD(m/s)</th>\n",
       "      <th>Min 850hPa WSPD(m/s)</th>\n",
       "      <th>Max 850hPa WSPD(m/s)</th>\n",
       "      <th>Avg 925hPa WSPD(m/s)</th>\n",
       "      <th>Min 925hPa WSPD(m/s)</th>\n",
       "      <th>Max 925hPa WSPD(m/s)</th>\n",
       "    </tr>\n",
       "  </thead>\n",
       "  <tbody>\n",
       "    <tr>\n",
       "      <th>count</th>\n",
       "      <td>3231.000000</td>\n",
       "      <td>3231.000000</td>\n",
       "      <td>3231.000000</td>\n",
       "      <td>3231.000000</td>\n",
       "      <td>3231.000000</td>\n",
       "      <td>3231.000000</td>\n",
       "      <td>3231.000000</td>\n",
       "      <td>3231.000000</td>\n",
       "      <td>3231.000000</td>\n",
       "      <td>3231.000000</td>\n",
       "      <td>...</td>\n",
       "      <td>3231.000000</td>\n",
       "      <td>3231.000000</td>\n",
       "      <td>3231.000000</td>\n",
       "      <td>3231.000000</td>\n",
       "      <td>3231.000000</td>\n",
       "      <td>3231.000000</td>\n",
       "      <td>3231.000000</td>\n",
       "      <td>3231.000000</td>\n",
       "      <td>3231.000000</td>\n",
       "      <td>3231.000000</td>\n",
       "    </tr>\n",
       "    <tr>\n",
       "      <th>mean</th>\n",
       "      <td>17.588466</td>\n",
       "      <td>6.551807</td>\n",
       "      <td>7.599818</td>\n",
       "      <td>2.039245</td>\n",
       "      <td>16.145107</td>\n",
       "      <td>7.199022</td>\n",
       "      <td>5.772318</td>\n",
       "      <td>3.315404</td>\n",
       "      <td>13.900928</td>\n",
       "      <td>6.845879</td>\n",
       "      <td>...</td>\n",
       "      <td>48.845248</td>\n",
       "      <td>25.569370</td>\n",
       "      <td>17.404384</td>\n",
       "      <td>33.885136</td>\n",
       "      <td>19.633493</td>\n",
       "      <td>12.128032</td>\n",
       "      <td>27.904516</td>\n",
       "      <td>18.583950</td>\n",
       "      <td>11.235938</td>\n",
       "      <td>27.087459</td>\n",
       "    </tr>\n",
       "    <tr>\n",
       "      <th>std</th>\n",
       "      <td>11.899096</td>\n",
       "      <td>10.782862</td>\n",
       "      <td>2.932123</td>\n",
       "      <td>5.950638</td>\n",
       "      <td>11.201407</td>\n",
       "      <td>9.998378</td>\n",
       "      <td>2.349089</td>\n",
       "      <td>7.027440</td>\n",
       "      <td>11.958992</td>\n",
       "      <td>10.984311</td>\n",
       "      <td>...</td>\n",
       "      <td>23.928116</td>\n",
       "      <td>12.122080</td>\n",
       "      <td>10.679616</td>\n",
       "      <td>14.806537</td>\n",
       "      <td>9.663558</td>\n",
       "      <td>8.166779</td>\n",
       "      <td>12.780029</td>\n",
       "      <td>8.550189</td>\n",
       "      <td>7.515700</td>\n",
       "      <td>10.910455</td>\n",
       "    </tr>\n",
       "    <tr>\n",
       "      <th>min</th>\n",
       "      <td>-21.111111</td>\n",
       "      <td>-26.666667</td>\n",
       "      <td>2.235200</td>\n",
       "      <td>0.000000</td>\n",
       "      <td>-18.760000</td>\n",
       "      <td>-25.060000</td>\n",
       "      <td>1.431782</td>\n",
       "      <td>0.000000</td>\n",
       "      <td>-23.366667</td>\n",
       "      <td>-28.575000</td>\n",
       "      <td>...</td>\n",
       "      <td>5.572108</td>\n",
       "      <td>2.233169</td>\n",
       "      <td>0.236355</td>\n",
       "      <td>3.920000</td>\n",
       "      <td>1.834943</td>\n",
       "      <td>0.125118</td>\n",
       "      <td>3.279427</td>\n",
       "      <td>2.525281</td>\n",
       "      <td>0.016797</td>\n",
       "      <td>4.263023</td>\n",
       "    </tr>\n",
       "    <tr>\n",
       "      <th>25%</th>\n",
       "      <td>8.333333</td>\n",
       "      <td>-1.111111</td>\n",
       "      <td>5.811520</td>\n",
       "      <td>0.000000</td>\n",
       "      <td>7.140000</td>\n",
       "      <td>-0.560000</td>\n",
       "      <td>4.001250</td>\n",
       "      <td>0.000000</td>\n",
       "      <td>4.395833</td>\n",
       "      <td>-1.416667</td>\n",
       "      <td>...</td>\n",
       "      <td>29.645812</td>\n",
       "      <td>16.044115</td>\n",
       "      <td>9.056656</td>\n",
       "      <td>22.358197</td>\n",
       "      <td>12.137650</td>\n",
       "      <td>5.611605</td>\n",
       "      <td>18.123073</td>\n",
       "      <td>12.061753</td>\n",
       "      <td>5.304518</td>\n",
       "      <td>18.690140</td>\n",
       "    </tr>\n",
       "    <tr>\n",
       "      <th>50%</th>\n",
       "      <td>20.000000</td>\n",
       "      <td>7.777778</td>\n",
       "      <td>7.152640</td>\n",
       "      <td>0.000000</td>\n",
       "      <td>18.140000</td>\n",
       "      <td>8.440000</td>\n",
       "      <td>5.393515</td>\n",
       "      <td>0.310000</td>\n",
       "      <td>16.008333</td>\n",
       "      <td>7.400000</td>\n",
       "      <td>...</td>\n",
       "      <td>45.869253</td>\n",
       "      <td>24.450706</td>\n",
       "      <td>15.824013</td>\n",
       "      <td>33.104040</td>\n",
       "      <td>18.617424</td>\n",
       "      <td>10.759529</td>\n",
       "      <td>26.532827</td>\n",
       "      <td>17.583896</td>\n",
       "      <td>9.826719</td>\n",
       "      <td>26.156047</td>\n",
       "    </tr>\n",
       "    <tr>\n",
       "      <th>75%</th>\n",
       "      <td>27.777778</td>\n",
       "      <td>16.111111</td>\n",
       "      <td>9.387840</td>\n",
       "      <td>0.350000</td>\n",
       "      <td>25.940000</td>\n",
       "      <td>15.540000</td>\n",
       "      <td>7.170077</td>\n",
       "      <td>3.320000</td>\n",
       "      <td>24.445833</td>\n",
       "      <td>16.387500</td>\n",
       "      <td>...</td>\n",
       "      <td>65.048811</td>\n",
       "      <td>34.181114</td>\n",
       "      <td>24.578709</td>\n",
       "      <td>44.274273</td>\n",
       "      <td>25.715324</td>\n",
       "      <td>17.227889</td>\n",
       "      <td>35.661048</td>\n",
       "      <td>23.816360</td>\n",
       "      <td>15.494756</td>\n",
       "      <td>34.499453</td>\n",
       "    </tr>\n",
       "    <tr>\n",
       "      <th>max</th>\n",
       "      <td>37.777778</td>\n",
       "      <td>25.555556</td>\n",
       "      <td>23.246080</td>\n",
       "      <td>85.900000</td>\n",
       "      <td>37.140000</td>\n",
       "      <td>25.040000</td>\n",
       "      <td>16.413714</td>\n",
       "      <td>81.010000</td>\n",
       "      <td>34.716667</td>\n",
       "      <td>26.391667</td>\n",
       "      <td>...</td>\n",
       "      <td>130.807817</td>\n",
       "      <td>66.974548</td>\n",
       "      <td>56.638165</td>\n",
       "      <td>85.076902</td>\n",
       "      <td>56.888965</td>\n",
       "      <td>50.535000</td>\n",
       "      <td>80.971872</td>\n",
       "      <td>49.617177</td>\n",
       "      <td>43.139130</td>\n",
       "      <td>60.778522</td>\n",
       "    </tr>\n",
       "  </tbody>\n",
       "</table>\n",
       "<p>8 rows × 90 columns</p>\n",
       "</div>"
      ],
      "text/plain": [
       "       Max Hourly Temp (C)  Min Hourly Temp (C)  Max Wind Speed (m/s)  \\\n",
       "count          3231.000000          3231.000000           3231.000000   \n",
       "mean             17.588466             6.551807              7.599818   \n",
       "std              11.899096            10.782862              2.932123   \n",
       "min             -21.111111           -26.666667              2.235200   \n",
       "25%               8.333333            -1.111111              5.811520   \n",
       "50%              20.000000             7.777778              7.152640   \n",
       "75%              27.777778            16.111111              9.387840   \n",
       "max              37.777778            25.555556             23.246080   \n",
       "\n",
       "       Daily Precip (mm)         TMAX         TMIN         WMAX         RTOT  \\\n",
       "count        3231.000000  3231.000000  3231.000000  3231.000000  3231.000000   \n",
       "mean            2.039245    16.145107     7.199022     5.772318     3.315404   \n",
       "std             5.950638    11.201407     9.998378     2.349089     7.027440   \n",
       "min             0.000000   -18.760000   -25.060000     1.431782     0.000000   \n",
       "25%             0.000000     7.140000    -0.560000     4.001250     0.000000   \n",
       "50%             0.000000    18.140000     8.440000     5.393515     0.310000   \n",
       "75%             0.350000    25.940000    15.540000     7.170077     3.320000   \n",
       "max            85.900000    37.140000    25.040000    16.413714    81.010000   \n",
       "\n",
       "              tmpc         dwpc  ...  Max 500hPa WSPD(m/s)  \\\n",
       "count  3231.000000  3231.000000  ...           3231.000000   \n",
       "mean     13.900928     6.845879  ...             48.845248   \n",
       "std      11.958992    10.984311  ...             23.928116   \n",
       "min     -23.366667   -28.575000  ...              5.572108   \n",
       "25%       4.395833    -1.416667  ...             29.645812   \n",
       "50%      16.008333     7.400000  ...             45.869253   \n",
       "75%      24.445833    16.387500  ...             65.048811   \n",
       "max      34.716667    26.391667  ...            130.807817   \n",
       "\n",
       "       Avg 700hPa WSPD(m/s)  Min 700hPa WSPD(m/s)  Max 700hPa WSPD(m/s)  \\\n",
       "count           3231.000000           3231.000000           3231.000000   \n",
       "mean              25.569370             17.404384             33.885136   \n",
       "std               12.122080             10.679616             14.806537   \n",
       "min                2.233169              0.236355              3.920000   \n",
       "25%               16.044115              9.056656             22.358197   \n",
       "50%               24.450706             15.824013             33.104040   \n",
       "75%               34.181114             24.578709             44.274273   \n",
       "max               66.974548             56.638165             85.076902   \n",
       "\n",
       "       Avg 850hPa WSPD(m/s)  Min 850hPa WSPD(m/s)  Max 850hPa WSPD(m/s)  \\\n",
       "count           3231.000000           3231.000000           3231.000000   \n",
       "mean              19.633493             12.128032             27.904516   \n",
       "std                9.663558              8.166779             12.780029   \n",
       "min                1.834943              0.125118              3.279427   \n",
       "25%               12.137650              5.611605             18.123073   \n",
       "50%               18.617424             10.759529             26.532827   \n",
       "75%               25.715324             17.227889             35.661048   \n",
       "max               56.888965             50.535000             80.971872   \n",
       "\n",
       "       Avg 925hPa WSPD(m/s)  Min 925hPa WSPD(m/s)  Max 925hPa WSPD(m/s)  \n",
       "count           3231.000000           3231.000000           3231.000000  \n",
       "mean              18.583950             11.235938             27.087459  \n",
       "std                8.550189              7.515700             10.910455  \n",
       "min                2.525281              0.016797              4.263023  \n",
       "25%               12.061753              5.304518             18.690140  \n",
       "50%               17.583896              9.826719             26.156047  \n",
       "75%               23.816360             15.494756             34.499453  \n",
       "max               49.617177             43.139130             60.778522  \n",
       "\n",
       "[8 rows x 90 columns]"
      ]
     },
     "execution_count": 13,
     "metadata": {},
     "output_type": "execute_result"
    }
   ],
   "source": [
    "features.describe()"
   ]
  },
  {
   "cell_type": "markdown",
   "metadata": {
    "colab_type": "text",
    "id": "qynpRsJwdFYR"
   },
   "source": []
  },
  {
   "cell_type": "code",
   "execution_count": 14,
   "metadata": {
    "colab": {},
    "colab_type": "code",
    "id": "ScQgbFnSnD0d"
   },
   "outputs": [],
   "source": [
    "# Add year, month, day as integers \n",
    "features['year'] = features['Date'].dt.year\n",
    "features['month'] = features['Date'].dt.month\n",
    "features['day'] = features['Date'].dt.day"
   ]
  },
  {
   "cell_type": "code",
   "execution_count": 15,
   "metadata": {
    "colab": {},
    "colab_type": "code",
    "id": "5q4PlS6cnOh5"
   },
   "outputs": [],
   "source": [
    "# The data we will be using to predict the labels\n",
    "new_features = features.drop(columns = ['Date', 'Max Hourly Temp (C)', 'Min Hourly Temp (C)', 'Max Wind Speed (m/s)', 'Daily Precip (mm)'], axis = 1)\n",
    "new_features_date = features.drop(columns = ['Max Hourly Temp (C)', 'Min Hourly Temp (C)', 'Max Wind Speed (m/s)', 'Daily Precip (mm)'], axis = 1)\n",
    "\n",
    "# Save feature list for later\n",
    "feature_list = list(new_features.columns)"
   ]
  },
  {
   "cell_type": "code",
   "execution_count": 16,
   "metadata": {
    "colab": {
     "base_uri": "https://localhost:8080/",
     "height": 478
    },
    "colab_type": "code",
    "executionInfo": {
     "elapsed": 521,
     "status": "ok",
     "timestamp": 1586066276436,
     "user": {
      "displayName": "Jeffrey Thayer",
      "photoUrl": "",
      "userId": "05379617383220225538"
     },
     "user_tz": 300
    },
    "id": "Kka4W_sLnY6y",
    "outputId": "d43e6ce6-9f3a-4229-c5b2-5fde5350e7b6"
   },
   "outputs": [
    {
     "data": {
      "text/html": [
       "<div>\n",
       "<style scoped>\n",
       "    .dataframe tbody tr th:only-of-type {\n",
       "        vertical-align: middle;\n",
       "    }\n",
       "\n",
       "    .dataframe tbody tr th {\n",
       "        vertical-align: top;\n",
       "    }\n",
       "\n",
       "    .dataframe thead th {\n",
       "        text-align: right;\n",
       "    }\n",
       "</style>\n",
       "<table border=\"1\" class=\"dataframe\">\n",
       "  <thead>\n",
       "    <tr style=\"text-align: right;\">\n",
       "      <th></th>\n",
       "      <th>TMAX</th>\n",
       "      <th>TMIN</th>\n",
       "      <th>WMAX</th>\n",
       "      <th>RTOT</th>\n",
       "      <th>tmpc</th>\n",
       "      <th>dwpc</th>\n",
       "      <th>mslp</th>\n",
       "      <th>wdir</th>\n",
       "      <th>wspd</th>\n",
       "      <th>skct</th>\n",
       "      <th>...</th>\n",
       "      <th>Max 700hPa WSPD(m/s)</th>\n",
       "      <th>Avg 850hPa WSPD(m/s)</th>\n",
       "      <th>Min 850hPa WSPD(m/s)</th>\n",
       "      <th>Max 850hPa WSPD(m/s)</th>\n",
       "      <th>Avg 925hPa WSPD(m/s)</th>\n",
       "      <th>Min 925hPa WSPD(m/s)</th>\n",
       "      <th>Max 925hPa WSPD(m/s)</th>\n",
       "      <th>year</th>\n",
       "      <th>month</th>\n",
       "      <th>day</th>\n",
       "    </tr>\n",
       "  </thead>\n",
       "  <tbody>\n",
       "    <tr>\n",
       "      <th>0</th>\n",
       "      <td>-10.16</td>\n",
       "      <td>-15.96</td>\n",
       "      <td>4.687217</td>\n",
       "      <td>0.00</td>\n",
       "      <td>-13.325000</td>\n",
       "      <td>-16.933333</td>\n",
       "      <td>1029.316667</td>\n",
       "      <td>286.666667</td>\n",
       "      <td>5.591667</td>\n",
       "      <td>2.250000</td>\n",
       "      <td>...</td>\n",
       "      <td>49.295660</td>\n",
       "      <td>23.064628</td>\n",
       "      <td>13.817925</td>\n",
       "      <td>28.554695</td>\n",
       "      <td>19.953517</td>\n",
       "      <td>8.720833</td>\n",
       "      <td>28.288681</td>\n",
       "      <td>2010</td>\n",
       "      <td>1</td>\n",
       "      <td>2</td>\n",
       "    </tr>\n",
       "    <tr>\n",
       "      <th>1</th>\n",
       "      <td>-9.96</td>\n",
       "      <td>-14.36</td>\n",
       "      <td>5.941380</td>\n",
       "      <td>0.06</td>\n",
       "      <td>-16.525000</td>\n",
       "      <td>-19.816667</td>\n",
       "      <td>1032.991667</td>\n",
       "      <td>296.666667</td>\n",
       "      <td>4.633333</td>\n",
       "      <td>0.000000</td>\n",
       "      <td>...</td>\n",
       "      <td>35.820786</td>\n",
       "      <td>14.311850</td>\n",
       "      <td>9.187170</td>\n",
       "      <td>25.595962</td>\n",
       "      <td>10.221142</td>\n",
       "      <td>4.890000</td>\n",
       "      <td>14.984583</td>\n",
       "      <td>2010</td>\n",
       "      <td>1</td>\n",
       "      <td>3</td>\n",
       "    </tr>\n",
       "    <tr>\n",
       "      <th>2</th>\n",
       "      <td>-8.46</td>\n",
       "      <td>-12.86</td>\n",
       "      <td>5.685068</td>\n",
       "      <td>0.17</td>\n",
       "      <td>-15.325000</td>\n",
       "      <td>-19.858333</td>\n",
       "      <td>1032.250000</td>\n",
       "      <td>305.833333</td>\n",
       "      <td>3.641667</td>\n",
       "      <td>0.000000</td>\n",
       "      <td>...</td>\n",
       "      <td>25.638797</td>\n",
       "      <td>19.625230</td>\n",
       "      <td>16.236038</td>\n",
       "      <td>22.569057</td>\n",
       "      <td>19.681558</td>\n",
       "      <td>15.286250</td>\n",
       "      <td>22.735308</td>\n",
       "      <td>2010</td>\n",
       "      <td>1</td>\n",
       "      <td>4</td>\n",
       "    </tr>\n",
       "    <tr>\n",
       "      <th>3</th>\n",
       "      <td>-7.16</td>\n",
       "      <td>-11.06</td>\n",
       "      <td>3.794733</td>\n",
       "      <td>0.77</td>\n",
       "      <td>-14.441667</td>\n",
       "      <td>-17.700000</td>\n",
       "      <td>1028.141667</td>\n",
       "      <td>290.833333</td>\n",
       "      <td>6.300000</td>\n",
       "      <td>1.333333</td>\n",
       "      <td>...</td>\n",
       "      <td>27.894286</td>\n",
       "      <td>19.975509</td>\n",
       "      <td>18.732500</td>\n",
       "      <td>21.650755</td>\n",
       "      <td>17.501740</td>\n",
       "      <td>14.371860</td>\n",
       "      <td>20.754109</td>\n",
       "      <td>2010</td>\n",
       "      <td>1</td>\n",
       "      <td>5</td>\n",
       "    </tr>\n",
       "    <tr>\n",
       "      <th>4</th>\n",
       "      <td>-5.46</td>\n",
       "      <td>-7.46</td>\n",
       "      <td>9.548298</td>\n",
       "      <td>7.10</td>\n",
       "      <td>-15.133333</td>\n",
       "      <td>-18.383333</td>\n",
       "      <td>1026.608333</td>\n",
       "      <td>275.833333</td>\n",
       "      <td>5.191667</td>\n",
       "      <td>3.333333</td>\n",
       "      <td>...</td>\n",
       "      <td>25.625084</td>\n",
       "      <td>12.570186</td>\n",
       "      <td>5.498429</td>\n",
       "      <td>15.381368</td>\n",
       "      <td>9.269647</td>\n",
       "      <td>4.237442</td>\n",
       "      <td>14.102946</td>\n",
       "      <td>2010</td>\n",
       "      <td>1</td>\n",
       "      <td>6</td>\n",
       "    </tr>\n",
       "    <tr>\n",
       "      <th>...</th>\n",
       "      <td>...</td>\n",
       "      <td>...</td>\n",
       "      <td>...</td>\n",
       "      <td>...</td>\n",
       "      <td>...</td>\n",
       "      <td>...</td>\n",
       "      <td>...</td>\n",
       "      <td>...</td>\n",
       "      <td>...</td>\n",
       "      <td>...</td>\n",
       "      <td>...</td>\n",
       "      <td>...</td>\n",
       "      <td>...</td>\n",
       "      <td>...</td>\n",
       "      <td>...</td>\n",
       "      <td>...</td>\n",
       "      <td>...</td>\n",
       "      <td>...</td>\n",
       "      <td>...</td>\n",
       "      <td>...</td>\n",
       "      <td>...</td>\n",
       "    </tr>\n",
       "    <tr>\n",
       "      <th>3607</th>\n",
       "      <td>11.84</td>\n",
       "      <td>3.84</td>\n",
       "      <td>4.301163</td>\n",
       "      <td>0.00</td>\n",
       "      <td>10.600000</td>\n",
       "      <td>6.075000</td>\n",
       "      <td>1014.266667</td>\n",
       "      <td>185.000000</td>\n",
       "      <td>5.758333</td>\n",
       "      <td>0.000000</td>\n",
       "      <td>...</td>\n",
       "      <td>44.672896</td>\n",
       "      <td>25.810623</td>\n",
       "      <td>21.320890</td>\n",
       "      <td>30.963770</td>\n",
       "      <td>26.814800</td>\n",
       "      <td>21.482578</td>\n",
       "      <td>37.140781</td>\n",
       "      <td>2019</td>\n",
       "      <td>12</td>\n",
       "      <td>26</td>\n",
       "    </tr>\n",
       "    <tr>\n",
       "      <th>3608</th>\n",
       "      <td>13.94</td>\n",
       "      <td>3.54</td>\n",
       "      <td>8.819297</td>\n",
       "      <td>2.73</td>\n",
       "      <td>13.466667</td>\n",
       "      <td>11.141667</td>\n",
       "      <td>1016.258333</td>\n",
       "      <td>200.833333</td>\n",
       "      <td>6.125000</td>\n",
       "      <td>1.090909</td>\n",
       "      <td>...</td>\n",
       "      <td>36.787191</td>\n",
       "      <td>15.922431</td>\n",
       "      <td>7.084645</td>\n",
       "      <td>30.112905</td>\n",
       "      <td>11.063626</td>\n",
       "      <td>2.659612</td>\n",
       "      <td>19.459845</td>\n",
       "      <td>2019</td>\n",
       "      <td>12</td>\n",
       "      <td>27</td>\n",
       "    </tr>\n",
       "    <tr>\n",
       "      <th>3609</th>\n",
       "      <td>15.94</td>\n",
       "      <td>9.34</td>\n",
       "      <td>9.701546</td>\n",
       "      <td>11.58</td>\n",
       "      <td>2.816667</td>\n",
       "      <td>0.725000</td>\n",
       "      <td>1025.341667</td>\n",
       "      <td>242.500000</td>\n",
       "      <td>2.775000</td>\n",
       "      <td>0.666667</td>\n",
       "      <td>...</td>\n",
       "      <td>48.791633</td>\n",
       "      <td>26.784180</td>\n",
       "      <td>8.002227</td>\n",
       "      <td>45.052275</td>\n",
       "      <td>26.167360</td>\n",
       "      <td>10.053231</td>\n",
       "      <td>38.476842</td>\n",
       "      <td>2019</td>\n",
       "      <td>12</td>\n",
       "      <td>28</td>\n",
       "    </tr>\n",
       "    <tr>\n",
       "      <th>3610</th>\n",
       "      <td>7.24</td>\n",
       "      <td>-1.66</td>\n",
       "      <td>11.111256</td>\n",
       "      <td>2.57</td>\n",
       "      <td>7.141667</td>\n",
       "      <td>6.866667</td>\n",
       "      <td>1018.491667</td>\n",
       "      <td>105.833333</td>\n",
       "      <td>5.975000</td>\n",
       "      <td>9.000000</td>\n",
       "      <td>...</td>\n",
       "      <td>62.694164</td>\n",
       "      <td>33.025519</td>\n",
       "      <td>21.384894</td>\n",
       "      <td>51.254681</td>\n",
       "      <td>29.166539</td>\n",
       "      <td>21.751150</td>\n",
       "      <td>40.815965</td>\n",
       "      <td>2019</td>\n",
       "      <td>12</td>\n",
       "      <td>29</td>\n",
       "    </tr>\n",
       "    <tr>\n",
       "      <th>3611</th>\n",
       "      <td>-0.36</td>\n",
       "      <td>-2.26</td>\n",
       "      <td>8.769265</td>\n",
       "      <td>0.04</td>\n",
       "      <td>12.266667</td>\n",
       "      <td>11.400000</td>\n",
       "      <td>1003.950000</td>\n",
       "      <td>181.666667</td>\n",
       "      <td>5.658333</td>\n",
       "      <td>1.000000</td>\n",
       "      <td>...</td>\n",
       "      <td>52.693584</td>\n",
       "      <td>33.542862</td>\n",
       "      <td>25.752406</td>\n",
       "      <td>40.141429</td>\n",
       "      <td>30.906071</td>\n",
       "      <td>27.018407</td>\n",
       "      <td>35.787228</td>\n",
       "      <td>2019</td>\n",
       "      <td>12</td>\n",
       "      <td>30</td>\n",
       "    </tr>\n",
       "  </tbody>\n",
       "</table>\n",
       "<p>3231 rows × 89 columns</p>\n",
       "</div>"
      ],
      "text/plain": [
       "       TMAX   TMIN       WMAX   RTOT       tmpc       dwpc         mslp  \\\n",
       "0    -10.16 -15.96   4.687217   0.00 -13.325000 -16.933333  1029.316667   \n",
       "1     -9.96 -14.36   5.941380   0.06 -16.525000 -19.816667  1032.991667   \n",
       "2     -8.46 -12.86   5.685068   0.17 -15.325000 -19.858333  1032.250000   \n",
       "3     -7.16 -11.06   3.794733   0.77 -14.441667 -17.700000  1028.141667   \n",
       "4     -5.46  -7.46   9.548298   7.10 -15.133333 -18.383333  1026.608333   \n",
       "...     ...    ...        ...    ...        ...        ...          ...   \n",
       "3607  11.84   3.84   4.301163   0.00  10.600000   6.075000  1014.266667   \n",
       "3608  13.94   3.54   8.819297   2.73  13.466667  11.141667  1016.258333   \n",
       "3609  15.94   9.34   9.701546  11.58   2.816667   0.725000  1025.341667   \n",
       "3610   7.24  -1.66  11.111256   2.57   7.141667   6.866667  1018.491667   \n",
       "3611  -0.36  -2.26   8.769265   0.04  12.266667  11.400000  1003.950000   \n",
       "\n",
       "            wdir      wspd      skct  ...  Max 700hPa WSPD(m/s)  \\\n",
       "0     286.666667  5.591667  2.250000  ...             49.295660   \n",
       "1     296.666667  4.633333  0.000000  ...             35.820786   \n",
       "2     305.833333  3.641667  0.000000  ...             25.638797   \n",
       "3     290.833333  6.300000  1.333333  ...             27.894286   \n",
       "4     275.833333  5.191667  3.333333  ...             25.625084   \n",
       "...          ...       ...       ...  ...                   ...   \n",
       "3607  185.000000  5.758333  0.000000  ...             44.672896   \n",
       "3608  200.833333  6.125000  1.090909  ...             36.787191   \n",
       "3609  242.500000  2.775000  0.666667  ...             48.791633   \n",
       "3610  105.833333  5.975000  9.000000  ...             62.694164   \n",
       "3611  181.666667  5.658333  1.000000  ...             52.693584   \n",
       "\n",
       "      Avg 850hPa WSPD(m/s)  Min 850hPa WSPD(m/s)  Max 850hPa WSPD(m/s)  \\\n",
       "0                23.064628             13.817925             28.554695   \n",
       "1                14.311850              9.187170             25.595962   \n",
       "2                19.625230             16.236038             22.569057   \n",
       "3                19.975509             18.732500             21.650755   \n",
       "4                12.570186              5.498429             15.381368   \n",
       "...                    ...                   ...                   ...   \n",
       "3607             25.810623             21.320890             30.963770   \n",
       "3608             15.922431              7.084645             30.112905   \n",
       "3609             26.784180              8.002227             45.052275   \n",
       "3610             33.025519             21.384894             51.254681   \n",
       "3611             33.542862             25.752406             40.141429   \n",
       "\n",
       "      Avg 925hPa WSPD(m/s)  Min 925hPa WSPD(m/s)  Max 925hPa WSPD(m/s)  year  \\\n",
       "0                19.953517              8.720833             28.288681  2010   \n",
       "1                10.221142              4.890000             14.984583  2010   \n",
       "2                19.681558             15.286250             22.735308  2010   \n",
       "3                17.501740             14.371860             20.754109  2010   \n",
       "4                 9.269647              4.237442             14.102946  2010   \n",
       "...                    ...                   ...                   ...   ...   \n",
       "3607             26.814800             21.482578             37.140781  2019   \n",
       "3608             11.063626              2.659612             19.459845  2019   \n",
       "3609             26.167360             10.053231             38.476842  2019   \n",
       "3610             29.166539             21.751150             40.815965  2019   \n",
       "3611             30.906071             27.018407             35.787228  2019   \n",
       "\n",
       "      month  day  \n",
       "0         1    2  \n",
       "1         1    3  \n",
       "2         1    4  \n",
       "3         1    5  \n",
       "4         1    6  \n",
       "...     ...  ...  \n",
       "3607     12   26  \n",
       "3608     12   27  \n",
       "3609     12   28  \n",
       "3610     12   29  \n",
       "3611     12   30  \n",
       "\n",
       "[3231 rows x 89 columns]"
      ]
     },
     "execution_count": 16,
     "metadata": {},
     "output_type": "execute_result"
    }
   ],
   "source": [
    "new_features"
   ]
  },
  {
   "cell_type": "markdown",
   "metadata": {
    "colab_type": "text",
    "id": "JT4tYXfEDlig"
   },
   "source": [
    "## Linear Regression with multiple variables; TMAX"
   ]
  },
  {
   "cell_type": "code",
   "execution_count": 18,
   "metadata": {
    "colab": {},
    "colab_type": "code",
    "id": "COAcoIlHDxb_"
   },
   "outputs": [],
   "source": [
    "# Get the verification data for training and for testing\n",
    "test_dates = np.array(new_features_date.query('year == 2019')['Date'])\n",
    "train_verification_tmax = np.array(features.query('year < 2019')['Max Hourly Temp (C)'])\n",
    "test_verification_tmax = np.array(features.query('year == 2019')['Max Hourly Temp (C)'])"
   ]
  },
  {
   "cell_type": "code",
   "execution_count": 19,
   "metadata": {
    "colab": {
     "base_uri": "https://localhost:8080/",
     "height": 36
    },
    "colab_type": "code",
    "executionInfo": {
     "elapsed": 377,
     "status": "ok",
     "timestamp": 1586068480811,
     "user": {
      "displayName": "Jeffrey Thayer",
      "photoUrl": "",
      "userId": "05379617383220225538"
     },
     "user_tz": 300
    },
    "id": "-_vKu98dJKNj",
    "outputId": "71d09116-8657-4906-e748-2ff496d658f9"
   },
   "outputs": [
    {
     "data": {
      "text/plain": [
       "LinearRegression(copy_X=True, fit_intercept=True, n_jobs=None, normalize=False)"
      ]
     },
     "execution_count": 19,
     "metadata": {},
     "output_type": "execute_result"
    }
   ],
   "source": [
    "# Import and set up the model\n",
    "from sklearn.linear_model import LinearRegression\n",
    "lrmax = LinearRegression(fit_intercept=True)\n",
    "\n",
    "# Choose the columns we want to use in the regression!!!\n",
    "# column_names = ['TMAX','TMIN','tmpc','dwpc','Avg LCLD(%)','Min MCLD(%)','Min HCLD(%)','Max 250hPa HGT(m)','Min 500hPa HGT(m)','Max 500hPa WSPD(m/s)','Min 850hPa WSPD(m/s)',\n",
    "#                 'Avg PRES(hPa)','Min 925hPa WSPD(m/s)','Max DWPDEP(C)','Avg 925hPa DWPDEP(C)','Min 925hPa TMPC','Min 850hPa TMPC']\n",
    "column_names_tmax = ['TMAX','TMIN','tmpc','dwpc','Avg DWPDEP(C)','Avg LCLD(%)','Avg MCLD(%)','Avg HCLD(%)','Avg 925hPa DWPDEP(C)','Avg 850hPa DWPDEP(C)','Max 925hPa TMPC',\n",
    "                     'Max 850hPa TMPC','Min 925hPa TMPC','Min 850hPa TMPC', 'Min 850hPa WSPD(m/s)','Min 925hPa WSPD(m/s)','Max DWPDEP(C)','wspd','Avg 250hPa DWPDEP(C)',\n",
    "                     'Avg 925hPa TMPC']\n",
    "train_vars_tmax = new_features.query('year < 2019')[column_names_tmax] # Get the columns for training\n",
    "test_vars_tmax = new_features.query('year == 2019')[column_names_tmax] # Get the columns for testing\n",
    "\n",
    "lrmax.fit(train_vars_tmax, train_verification_tmax) # Fit the model"
   ]
  },
  {
   "cell_type": "code",
   "execution_count": 20,
   "metadata": {
    "colab": {
     "base_uri": "https://localhost:8080/",
     "height": 92
    },
    "colab_type": "code",
    "executionInfo": {
     "elapsed": 381,
     "status": "ok",
     "timestamp": 1586068481742,
     "user": {
      "displayName": "Jeffrey Thayer",
      "photoUrl": "",
      "userId": "05379617383220225538"
     },
     "user_tz": 300
    },
    "id": "T8IBbenjKiFY",
    "outputId": "f1cd9171-1bc3-4bfc-f95b-c9df947cd0d6"
   },
   "outputs": [
    {
     "name": "stdout",
     "output_type": "stream",
     "text": [
      "Baseline Root Mean Square Error: 4.51 degrees C.\n",
      "Root Mean Square Error: 1.94 degrees C.\n",
      "Model slope:     0.08220199105642877\n",
      "Model intercept: 4.8548349168180795\n"
     ]
    }
   ],
   "source": [
    "# Run the model to get predictions during the test period\n",
    "predictions_tmax = lrmax.predict(test_vars_tmax)\n",
    "\n",
    "# Print out the root mean square error (rmse), model slope, and model intercept\n",
    "# Let's check how well the GFS forecast does. This will be our 'base prediction'\n",
    "print('Baseline Root Mean Square Error:', round(sqrt(mean_squared_error(test_verification_tmax, new_features.query('year == 2019')['TMAX'].values)), 2), 'degrees C.')\n",
    "print('Root Mean Square Error:', round(sqrt(mean_squared_error(test_verification_tmax, predictions_tmax)), 2), 'degrees C.')\n",
    "print(\"Model slope:    \", lrmax.coef_[0])\n",
    "print(\"Model intercept:\", lrmax.intercept_)"
   ]
  },
  {
   "cell_type": "code",
   "execution_count": 49,
   "metadata": {
    "colab": {
     "base_uri": "https://localhost:8080/",
     "height": 287
    },
    "colab_type": "code",
    "executionInfo": {
     "elapsed": 677,
     "status": "ok",
     "timestamp": 1586066849415,
     "user": {
      "displayName": "Jeffrey Thayer",
      "photoUrl": "",
      "userId": "05379617383220225538"
     },
     "user_tz": 300
    },
    "id": "31DkTHPDRfhG",
    "outputId": "5422b29a-abcd-4d4a-ea1e-1f28cddf1656"
   },
   "outputs": [
    {
     "data": {
      "image/png": "[encoded data removed]",
      "text/plain": [
       "<Figure size 576x360 with 1 Axes>"
      ]
     },
     "metadata": {},
     "output_type": "display_data"
    }
   ],
   "source": [
    "# Do the plot\n",
    "fig, ax = plt.subplots(figsize = (8,5))\n",
    "ax.plot(test_dates, test_verification_tmax, 'ro', label = 'Observed')\n",
    "ax.plot(test_dates, predictions_tmax, 'b-', label = 'Predicted')\n",
    "# ax.plot(predictions, 'b-')\n",
    "# ax.plot(test_labels, 'ro')\n",
    "ax.set_xlabel('Date')\n",
    "ax.set_ylabel('Temperature ($^\\degree C$)')\n",
    "plt.legend()\n",
    "plt.tight_layout()\n",
    "plt.savefig('./tmax_ols.png', dpi = 500)"
   ]
  },
  {
   "cell_type": "markdown",
   "metadata": {
    "colab_type": "text",
    "id": "esYkj86cyGrq"
   },
   "source": [
    "### Linear Regression with multiple variables; TMIN"
   ]
  },
  {
   "cell_type": "code",
   "execution_count": 27,
   "metadata": {
    "colab": {},
    "colab_type": "code",
    "id": "Dw8CtMuYVdHr"
   },
   "outputs": [],
   "source": [
    "# Get the verification data for training and for testing\n",
    "test_dates_tmin = np.array(new_features_date.query('year == 2019')['Date'])\n",
    "train_verification_tmin = np.array(features.query('year < 2019')['Min Hourly Temp (C)'])\n",
    "test_verification_tmin = np.array(features.query('year == 2019')['Min Hourly Temp (C)'])"
   ]
  },
  {
   "cell_type": "code",
   "execution_count": 28,
   "metadata": {
    "colab": {
     "base_uri": "https://localhost:8080/",
     "height": 36
    },
    "colab_type": "code",
    "executionInfo": {
     "elapsed": 376,
     "status": "ok",
     "timestamp": 1586068527986,
     "user": {
      "displayName": "Jeffrey Thayer",
      "photoUrl": "",
      "userId": "05379617383220225538"
     },
     "user_tz": 300
    },
    "id": "wIsDAXCXVfg6",
    "outputId": "c3a9a20b-637c-4bb9-fd00-35da876b81d8"
   },
   "outputs": [
    {
     "data": {
      "text/plain": [
       "LinearRegression(copy_X=True, fit_intercept=True, n_jobs=None, normalize=False)"
      ]
     },
     "execution_count": 28,
     "metadata": {},
     "output_type": "execute_result"
    }
   ],
   "source": [
    "# Import and set up the model\n",
    "from sklearn.linear_model import LinearRegression\n",
    "lrmax = LinearRegression(fit_intercept=True)\n",
    "\n",
    "# Choose the columns we want to use in the regression!!!\n",
    "# column_names = ['TMAX','TMIN','tmpc','dwpc','wspd','pr1h','Max DWPDEP(C)','Max LCLD(%)','Max MCLD(%)','Avg HCLD(%)','Min 850hPa WSPD(m/s)','Min 925hPa WSPD(m/s)',\n",
    "#                 'Min 925hPa DWPDEP(C)','Avg 850hPa DWPDEP(C)','Max 925hPa TMPC','Max 850hPa TMPC','Min 850hPa TMPC']\n",
    "column_names_tmin = ['TMAX','TMIN','tmpc','dwpc','wdir','Avg DWPDEP(C)','Avg LCLD(%)','Avg MCLD(%)','Avg HCLD(%)','Avg 925hPa DWPDEP(C)','Avg 850hPa DWPDEP(C)',\n",
    "                'Max 250hPa HGT(m)','Avg 500hPa HGT(m)','Min 500hPa HGT(m)','Max 925hPa TMPC','Max 850hPa TMPC','Min 925hPa TMPC','Min 850hPa TMPC','wspd','Min 850hPa WSPD(m/s)',\n",
    "                'Min 925hPa WSPD(m/s)']\n",
    "train_vars_tmin = new_features.query('year < 2019')[column_names_tmin] # Get the columns for training\n",
    "test_vars_tmin = new_features.query('year == 2019')[column_names_tmin] # Get the columns for testing\n",
    "\n",
    "lrmax.fit(train_vars_tmin, train_verification_tmin) # Fit the model"
   ]
  },
  {
   "cell_type": "code",
   "execution_count": 29,
   "metadata": {
    "colab": {
     "base_uri": "https://localhost:8080/",
     "height": 92
    },
    "colab_type": "code",
    "executionInfo": {
     "elapsed": 320,
     "status": "ok",
     "timestamp": 1586068528784,
     "user": {
      "displayName": "Jeffrey Thayer",
      "photoUrl": "",
      "userId": "05379617383220225538"
     },
     "user_tz": 300
    },
    "id": "LY7Gk9zOVh-r",
    "outputId": "b119ab80-8184-43a2-c920-c48a7a14a03c"
   },
   "outputs": [
    {
     "name": "stdout",
     "output_type": "stream",
     "text": [
      "Baseline Root Mean Square Error: 4.26 degrees C.\n",
      "Root Mean Square Error: 2.08 degrees C.\n",
      "Model slope:     0.010407372428056559\n",
      "Model intercept: -22.32654638450527\n"
     ]
    }
   ],
   "source": [
    "# Run the model to get predictions during the test period\n",
    "predictions_tmin = lrmax.predict(test_vars_tmin)\n",
    "\n",
    "# Print out the root mean square error (rmse), model slope, and model intercept\n",
    "print('Baseline Root Mean Square Error:', round(sqrt(mean_squared_error(test_verification_tmin, new_features.query('year == 2019')['TMIN'].values)), 2), 'degrees C.')\n",
    "print('Root Mean Square Error:', round(sqrt(mean_squared_error(test_verification_tmin, predictions_tmin)), 2), 'degrees C.')\n",
    "print(\"Model slope:    \", lrmax.coef_[0])\n",
    "print(\"Model intercept:\", lrmax.intercept_)"
   ]
  },
  {
   "cell_type": "code",
   "execution_count": 48,
   "metadata": {
    "colab": {
     "base_uri": "https://localhost:8080/",
     "height": 287
    },
    "colab_type": "code",
    "executionInfo": {
     "elapsed": 663,
     "status": "ok",
     "timestamp": 1586066798810,
     "user": {
      "displayName": "Jeffrey Thayer",
      "photoUrl": "",
      "userId": "05379617383220225538"
     },
     "user_tz": 300
    },
    "id": "vzmhWhVQVkOB",
    "outputId": "a04d635a-bfe9-42dd-f4fb-ffbcc5a18e07"
   },
   "outputs": [
    {
     "data": {
      "image/png": "[encoded data removed]",
      "text/plain": [
       "<Figure size 576x360 with 1 Axes>"
      ]
     },
     "metadata": {},
     "output_type": "display_data"
    }
   ],
   "source": [
    "# Do the plot\n",
    "fig, ax = plt.subplots(figsize = (8,5))\n",
    "ax.plot(test_dates, test_verification_tmin, 'ro', label = 'Observed')\n",
    "ax.plot(test_dates, predictions_tmin, 'b-', label = 'Predicted')\n",
    "# ax.plot(predictions, 'b-')\n",
    "# ax.plot(test_labels, 'ro')\n",
    "ax.set_xlabel('Date')\n",
    "ax.set_ylabel('Temperature ($^\\degree C$)')\n",
    "plt.legend(loc = 'lower center')\n",
    "plt.tight_layout()\n",
    "plt.savefig('./tmin_ols.png', dpi = 500)"
   ]
  },
  {
   "cell_type": "markdown",
   "metadata": {
    "colab_type": "text",
    "id": "mOBevbrEzCQy"
   },
   "source": [
    "### Linear Regression with multiple variables; Max Wind Speed"
   ]
  },
  {
   "cell_type": "code",
   "execution_count": 33,
   "metadata": {
    "colab": {},
    "colab_type": "code",
    "id": "Cn0d9t-PVpK_"
   },
   "outputs": [],
   "source": [
    "# Get the verification data for training and for testing\n",
    "test_dates_wmax = np.array(new_features_date.query('year == 2019')['Date'])\n",
    "train_verification_wmax = np.array(features.query('year < 2019')['Max Wind Speed (m/s)'])\n",
    "test_verification_wmax = np.array(features.query('year == 2019')['Max Wind Speed (m/s)'])"
   ]
  },
  {
   "cell_type": "code",
   "execution_count": 34,
   "metadata": {
    "colab": {
     "base_uri": "https://localhost:8080/",
     "height": 36
    },
    "colab_type": "code",
    "executionInfo": {
     "elapsed": 320,
     "status": "ok",
     "timestamp": 1586068568867,
     "user": {
      "displayName": "Jeffrey Thayer",
      "photoUrl": "",
      "userId": "05379617383220225538"
     },
     "user_tz": 300
    },
    "id": "CyCoXLKNVqGR",
    "outputId": "cec76775-f4fd-4d68-c854-1abef9bec09f"
   },
   "outputs": [
    {
     "data": {
      "text/plain": [
       "LinearRegression(copy_X=True, fit_intercept=True, n_jobs=None, normalize=False)"
      ]
     },
     "execution_count": 34,
     "metadata": {},
     "output_type": "execute_result"
    }
   ],
   "source": [
    "# Import and set up the model\n",
    "from sklearn.linear_model import LinearRegression\n",
    "lrmax = LinearRegression(fit_intercept=True)\n",
    "\n",
    "# Choose the columns we want to use in the regression!!!\n",
    "# column_names = ['WMAX','wspd','Max 925hPa WSPD(m/s)','Min 925hPa WSPD(m/s)','Max 850hPa WSPD(m/s)','Min 850hPa WSPD(m/s)','Max 500hPa WSPD(m/s)','Min 500hPa WSPD(m/s)',\n",
    "#                 'Min 925hPa TMPC','Max 850hPa TMPC','tmpc','mslp','Max MCLD(%)','Avg 250hPa HGT(m)','month']\n",
    "column_names_wmax = ['WMAX','tmpc','wspd','mslp','Avg DWPDEP(C)','Avg MCLD(%)','Max MCLD(%)','Avg HCLD(%)','Min HCLD(%)','Min PRES(hPa)','Max 925hPa WSPD(m/s)',\n",
    "                'Avg 850hPa DWPDEP(C)','Avg 250hPa HGT(m)','Min 250hPa HGT(m)','Max 500hPa HGT(m)','Max 925hPa WSPD(m/s)','Min 925hPa WSPD(m/s)','Max 850hPa WSPD(m/s)',\n",
    "                'Min 850hPa WSPD(m/s)','Max 500hPa WSPD(m/s)','Min 500hPa WSPD(m/s)','Min 925hPa TMPC','Max 850hPa TMPC','month',\n",
    "                'Max 700hPa DWPDEP(C)','Max 700hPa HGT(m)','Avg 500hPa TMPC','Max 700hPa WSPD(m/s)','Avg 850hPa WSPD(m/s)'] \n",
    "train_vars_wmax = new_features.query('year < 2019')[column_names_wmax] # Get the columns for training\n",
    "test_vars_wmax = new_features.query('year == 2019')[column_names_wmax] # Get the columns for testing\n",
    "\n",
    "lrmax.fit(train_vars_wmax, train_verification_wmax) # Fit the model"
   ]
  },
  {
   "cell_type": "code",
   "execution_count": 35,
   "metadata": {
    "colab": {
     "base_uri": "https://localhost:8080/",
     "height": 92
    },
    "colab_type": "code",
    "executionInfo": {
     "elapsed": 375,
     "status": "ok",
     "timestamp": 1586068569819,
     "user": {
      "displayName": "Jeffrey Thayer",
      "photoUrl": "",
      "userId": "05379617383220225538"
     },
     "user_tz": 300
    },
    "id": "7udIHO57Vs1y",
    "outputId": "db2b9644-71ce-489c-cbc0-b0b7a1d15df5"
   },
   "outputs": [
    {
     "name": "stdout",
     "output_type": "stream",
     "text": [
      "Baseline Root Mean Square Error: 3.32 m/s.\n",
      "Root Mean Square Error: 1.73 m/s.\n",
      "Model slope:     0.02735957795392756\n",
      "Model intercept: 59.97187601188671\n"
     ]
    }
   ],
   "source": [
    "# Run the model to get predictions during the test period\n",
    "predictions_wmax = lrmax.predict(test_vars_wmax)\n",
    "for i in np.arange(len(predictions_wmax)):\n",
    "    if predictions_wmax[i] < 0:\n",
    "        predictions_wmax[i] = 0.0\n",
    "\n",
    "# Print out the root mean square error (rmse), model slope, and model intercept\n",
    "print('Baseline Root Mean Square Error:', round(sqrt(mean_squared_error(test_verification_wmax, new_features.query('year == 2019')['WMAX'].values)), 2), 'm/s.')\n",
    "print('Root Mean Square Error:', round(sqrt(mean_squared_error(test_verification_wmax, predictions_wmax)), 2), 'm/s.')\n",
    "print(\"Model slope:    \", lrmax.coef_[0])\n",
    "print(\"Model intercept:\", lrmax.intercept_)"
   ]
  },
  {
   "cell_type": "code",
   "execution_count": 47,
   "metadata": {
    "colab": {
     "base_uri": "https://localhost:8080/",
     "height": 287
    },
    "colab_type": "code",
    "executionInfo": {
     "elapsed": 713,
     "status": "ok",
     "timestamp": 1586066738897,
     "user": {
      "displayName": "Jeffrey Thayer",
      "photoUrl": "",
      "userId": "05379617383220225538"
     },
     "user_tz": 300
    },
    "id": "rjJ9AFl6Vuyj",
    "outputId": "2e88b088-1ab1-49e6-e4f2-600b2c9df9c0"
   },
   "outputs": [
    {
     "data": {
      "image/png": "[encoded data removed]",
      "text/plain": [
       "<Figure size 576x360 with 1 Axes>"
      ]
     },
     "metadata": {},
     "output_type": "display_data"
    }
   ],
   "source": [
    "# Do the plot\n",
    "fig, ax = plt.subplots(figsize = (8,5))\n",
    "ax.plot(test_dates, test_verification_wmax, 'ro', label = 'Observed')\n",
    "ax.plot(test_dates, predictions_wmax, 'b-', label = 'Predicted')\n",
    "# ax.plot(predictions, 'b-')\n",
    "# ax.plot(test_labels, 'ro')\n",
    "ax.set_xlabel('Date')\n",
    "ax.set_ylabel('Wind Speed ($m/s$)')\n",
    "plt.legend(loc = [0.48, 0.78])\n",
    "plt.tight_layout()\n",
    "plt.savefig('./wmax_old.png', dpi = 500)"
   ]
  },
  {
   "cell_type": "markdown",
   "metadata": {
    "colab_type": "text",
    "id": "oGKRHPN-0GlF"
   },
   "source": [
    "### Linear Regression with multiple variables; Total Precipitation"
   ]
  },
  {
   "cell_type": "code",
   "execution_count": 40,
   "metadata": {
    "colab": {},
    "colab_type": "code",
    "id": "6MWTCPyu0qen"
   },
   "outputs": [],
   "source": [
    "# Get the verification data for training and for testing\n",
    "test_dates_totalprecip = np.array(new_features_date.query('year == 2019')['Date'])\n",
    "train_verification_totalprecip = np.array(features.query('year < 2019')['Daily Precip (mm)'])\n",
    "test_verification_totalprecip = np.array(features.query('year == 2019')['Daily Precip (mm)'])"
   ]
  },
  {
   "cell_type": "code",
   "execution_count": 41,
   "metadata": {
    "colab": {
     "base_uri": "https://localhost:8080/",
     "height": 36
    },
    "colab_type": "code",
    "executionInfo": {
     "elapsed": 278,
     "status": "ok",
     "timestamp": 1586068604217,
     "user": {
      "displayName": "Jeffrey Thayer",
      "photoUrl": "",
      "userId": "05379617383220225538"
     },
     "user_tz": 300
    },
    "id": "OqXHYiEiVytL",
    "outputId": "d02ee559-e0f7-4aa6-9a39-5f13846069e4"
   },
   "outputs": [
    {
     "data": {
      "text/plain": [
       "LinearRegression(copy_X=True, fit_intercept=True, n_jobs=None, normalize=False)"
      ]
     },
     "execution_count": 41,
     "metadata": {},
     "output_type": "execute_result"
    }
   ],
   "source": [
    "# Import and set up the model\n",
    "from sklearn.linear_model import LinearRegression\n",
    "lrmax = LinearRegression(fit_intercept=True)\n",
    "\n",
    "# Choose the columns we want to use in the regression!!!\n",
    "# column_names = ['RTOT','dwpc','skct','Avg 850hPa DWPDEP(C)','Min 850hPa DWPDEP(C)','Max 850hPa DWPDEP(C)','Avg 925hPa DWPDEP(C)','Min 925hPa DWPDEP(C)','Max 925hPa DWPDEP(C)',\n",
    "#                 'Max 925hPa TMPC','Min 925hPa TMPC','tmpc','TMIN','WMAX','mslp','wspd','pr1h','Avg DWPDEP(C)','Max DWPDEP(C)','Max MCLD(%)','Avg HCLD(%)','Min PRES(hPa)',\n",
    "#                 'Avg 250hPa HGT(m)','Max 250hPa HGT(m)','Min 500hPa WSPD(m/s)','Max 850hPa WSPD(m/s)','Min 850hPa WSPD(m/s)','Max 925hPa WSPD(m/s)','Min 925hPa WSPD(m/s)']\n",
    "column_names_totalprecip = ['RTOT','TMIN','skct','wdir','wspd','Min DWPDEP(C)','Avg MCLD(%)','Max MCLD(%)','Avg HCLD(%)','Max PRES(hPa)','Max 850hPa DWPDEP(C)','Min 850hPa DWPDEP(C)',\n",
    "                            'Avg 500hPa HGT(m)','Max 500hPa HGT(m)','Min 500hPa HGT(m)','Max 925hPa TMPC','Min 925hPa TMPC','WMAX','Max PRES(hPa)','tmpc','mslp',\n",
    "                            'Avg 700hPa DWPDEP(C)','Max 700hPa WSPD(m/s)']\n",
    "\n",
    "train_vars_totalprecip = new_features.query('year < 2019')[column_names_totalprecip] # Get the columns for training\n",
    "test_vars_totalprecip = new_features.query('year == 2019')[column_names_totalprecip] # Get the columns for testing\n",
    "\n",
    "lrmax.fit(train_vars_totalprecip, train_verification_totalprecip) # Fit the model"
   ]
  },
  {
   "cell_type": "code",
   "execution_count": 42,
   "metadata": {
    "colab": {
     "base_uri": "https://localhost:8080/",
     "height": 92
    },
    "colab_type": "code",
    "executionInfo": {
     "elapsed": 270,
     "status": "ok",
     "timestamp": 1586068605011,
     "user": {
      "displayName": "Jeffrey Thayer",
      "photoUrl": "",
      "userId": "05379617383220225538"
     },
     "user_tz": 300
    },
    "id": "GJhLncaiV0bR",
    "outputId": "7597a9ce-7273-481c-e7b3-efeee5645486"
   },
   "outputs": [
    {
     "name": "stdout",
     "output_type": "stream",
     "text": [
      "Baseline Root Mean Square Error: 8.52 mm.\n",
      "Root Mean Square Error: 4.24 mm.\n",
      "Model slope:     0.014293058786737598\n",
      "Model intercept: -6.6562392759834825\n"
     ]
    }
   ],
   "source": [
    "# Run the model to get predictions during the test period\n",
    "predictions_totalprecip = lrmax.predict(test_vars_totalprecip)\n",
    "for i in np.arange(len(predictions_totalprecip)):\n",
    "    if predictions_totalprecip[i] < 0:\n",
    "        predictions_totalprecip[i] = 0.0\n",
    "\n",
    "# Print out the root mean square error (rmse), model slope, and model intercept\n",
    "print('Baseline Root Mean Square Error:', round(sqrt(mean_squared_error(test_verification_totalprecip, new_features.query('year == 2019')['RTOT'].values)), 2), 'mm.')\n",
    "print('Root Mean Square Error:', round(sqrt(mean_squared_error(test_verification_totalprecip, predictions_totalprecip)), 2), 'mm.')\n",
    "print(\"Model slope:    \", lrmax.coef_[0])\n",
    "print(\"Model intercept:\", lrmax.intercept_)"
   ]
  },
  {
   "cell_type": "code",
   "execution_count": 50,
   "metadata": {
    "colab": {
     "base_uri": "https://localhost:8080/",
     "height": 287
    },
    "colab_type": "code",
    "executionInfo": {
     "elapsed": 578,
     "status": "ok",
     "timestamp": 1586067259553,
     "user": {
      "displayName": "Jeffrey Thayer",
      "photoUrl": "",
      "userId": "05379617383220225538"
     },
     "user_tz": 300
    },
    "id": "neW_m4NFV3UC",
    "outputId": "f9fc5af4-5ec5-4bc8-a585-2b71e6555f2f"
   },
   "outputs": [
    {
     "data": {
      "image/png": "[encoded data removed]",
      "text/plain": [
       "<Figure size 576x360 with 1 Axes>"
      ]
     },
     "metadata": {},
     "output_type": "display_data"
    }
   ],
   "source": [
    "# Do the plot\n",
    "fig, ax = plt.subplots(figsize = (8,5))\n",
    "ax.plot(test_dates, test_verification_totalprecip, 'ro', label = 'Observed')\n",
    "ax.plot(test_dates, predictions_totalprecip, 'b-', label = 'Predicted')\n",
    "# ax.plot(predictions, 'b-')\n",
    "# ax.plot(test_labels, 'ro')\n",
    "ax.set_xlabel('Date')\n",
    "ax.set_ylabel('Precipitation ($mm$)')\n",
    "plt.legend(loc = 'upper right')\n",
    "plt.tight_layout()\n",
    "plt.savefig('./prcp_ols.png', dpi = 500)"
   ]
  },
  {
   "cell_type": "code",
   "execution_count": null,
   "metadata": {
    "colab": {},
    "colab_type": "code",
    "id": "XwlVrtLmWvUd"
   },
   "outputs": [],
   "source": []
  }
 ],
 "metadata": {
  "colab": {
   "collapsed_sections": [],
   "name": "Project4_LinearModel.ipynb",
   "provenance": []
  },
  "kernelspec": {
   "display_name": "Python 3",
   "language": "python",
   "name": "python3"
  },
  "language_info": {
   "codemirror_mode": {
    "name": "ipython",
    "version": 3
   },
   "file_extension": ".py",
   "mimetype": "text/x-python",
   "name": "python",
   "nbconvert_exporter": "python",
   "pygments_lexer": "ipython3",
   "version": "3.7.6"
  }
 },
 "nbformat": 4,
 "nbformat_minor": 4
}
